{
 "cells": [
  {
   "cell_type": "markdown",
   "metadata": {},
   "source": [
    "### 1 - exercise\n",
    "\n",
    "- Read the trip and station csv-s into pandas dataframes. <br>\n",
    "- Calculate the duration of each trip in minutes. For this you'll have to transform the end_date and start_date columns into datetime format and substract the latter from the former. To get the time difference in minutes convert the result to timedelta64[m] format. <br>\n",
    "- Draw a histogram of the durations to see if there are any extreme values"
   ]
  },
  {
   "cell_type": "code",
   "execution_count": 5,
   "metadata": {},
   "outputs": [],
   "source": [
    "import pandas as pd\n",
    "trip = pd.read_csv('trip.csv')\n",
    "station = pd.read_csv('station.csv')"
   ]
  },
  {
   "cell_type": "code",
   "execution_count": 6,
   "metadata": {},
   "outputs": [],
   "source": [
    "trip['start_date'] = pd.to_datetime(trip['Start Date'], format='%m/%d/%Y %H:%M')\n",
    "trip['end_date'] = pd.to_datetime(trip['End Date'], format='%m/%d/%Y %H:%M')"
   ]
  },
  {
   "cell_type": "code",
   "execution_count": 7,
   "metadata": {
    "scrolled": false
   },
   "outputs": [],
   "source": [
    "trip['duration'] = trip['end_date'] - trip['start_date']\n",
    "trip['duration'] = trip['duration'].astype('timedelta64[m]')"
   ]
  },
  {
   "cell_type": "code",
   "execution_count": 8,
   "metadata": {},
   "outputs": [
    {
     "data": {
      "image/png": "[encoded data removed]",
      "text/plain": [
       "<Figure size 432x288 with 1 Axes>"
      ]
     },
     "metadata": {
      "needs_background": "light"
     },
     "output_type": "display_data"
    }
   ],
   "source": [
    "import matplotlib.pyplot as plt\n",
    "%matplotlib inline\n",
    "plt.hist(trip['duration'])\n",
    "plt.show()"
   ]
  },
  {
   "cell_type": "markdown",
   "metadata": {},
   "source": [
    "### 1 - check yourslef"
   ]
  },
  {
   "cell_type": "code",
   "execution_count": 9,
   "metadata": {},
   "outputs": [
    {
     "name": "stdout",
     "output_type": "stream",
     "text": [
      "The duration column is correct\n"
     ]
    }
   ],
   "source": [
    "if trip['duration'].sum() == 2953335:\n",
    "    print('The duration column is correct')\n",
    "else:\n",
    "    print('The duration column is NOT correct')"
   ]
  },
  {
   "cell_type": "markdown",
   "metadata": {},
   "source": [
    "### 2 - exercise\n",
    "it looks like that people take the bycicles for unreasonably long times. Let's change the duration value to np.nan where it's higher than 300 minutes."
   ]
  },
  {
   "cell_type": "code",
   "execution_count": 10,
   "metadata": {},
   "outputs": [
    {
     "data": {
      "text/plain": [
       "300.0"
      ]
     },
     "execution_count": 10,
     "metadata": {},
     "output_type": "execute_result"
    }
   ],
   "source": [
    "import numpy as np\n",
    "trip['duration'] = trip['duration'].apply(lambda x: np.nan if x > 300 else x)\n",
    "# trip.loc[trip.duration > 300, 'duration'] = np.NAN\n",
    "max(trip['duration'])"
   ]
  },
  {
   "cell_type": "markdown",
   "metadata": {},
   "source": [
    "### 2 - check yourself"
   ]
  },
  {
   "cell_type": "code",
   "execution_count": 11,
   "metadata": {},
   "outputs": [
    {
     "name": "stdout",
     "output_type": "stream",
     "text": [
      "The duration column is correct\n"
     ]
    }
   ],
   "source": [
    "if trip['duration'].sum() == 2069201:\n",
    "    print('The duration column is correct')\n",
    "else:\n",
    "    print('The duration column is NOT correct')"
   ]
  },
  {
   "cell_type": "markdown",
   "metadata": {},
   "source": [
    "### 3 - exercise\n",
    "\n",
    "By merging the trip and station dataframes, create a new dataframe called dist_df where for each trip the latitude and the longitude is given for both start and end stations. These columns should be called lat1, lon1 for the start station and lat2, lon2 for the end station <br>\n",
    "Hint: You'll have to do multiple merges, and rename some columns"
   ]
  },
  {
   "cell_type": "code",
   "execution_count": 12,
   "metadata": {},
   "outputs": [],
   "source": [
    "dist_df = pd.merge(trip, station[['name','lat','long']],  how='left', left_on='Start Station', right_on='name')\n",
    "dist_df = dist_df.rename(columns={'lat': 'lat1', 'long': 'lon1'})\n",
    "# dist_df = pd.merge(trip, station[['name','lat','long']],  how='left', left_on='End Station', right_on='name')\n",
    "# dist_df = dist_df.rename(columns={'lat': 'lat2', 'long': 'lon2'})"
   ]
  },
  {
   "cell_type": "code",
   "execution_count": 13,
   "metadata": {
    "scrolled": true
   },
   "outputs": [],
   "source": [
    "dist_df = pd.merge(dist_df, station[['name','lat','long']],  how='left', left_on='End Station', right_on='name')\n",
    "dist_df = dist_df.rename(columns={'lat': 'lat2', 'long': 'lon2'})\n",
    "del dist_df['name_x']\n",
    "del dist_df['name_y']"
   ]
  },
  {
   "cell_type": "markdown",
   "metadata": {},
   "source": [
    "### 3 - check yourself"
   ]
  },
  {
   "cell_type": "code",
   "execution_count": 14,
   "metadata": {
    "scrolled": false
   },
   "outputs": [
    {
     "name": "stdout",
     "output_type": "stream",
     "text": [
      "The new columns are correct\n"
     ]
    }
   ],
   "source": [
    "if int(dist_df['lat1'].sum()) == 5434836 and int(dist_df['lat2'].sum())==5434810:\n",
    "    print('The new columns are correct')\n",
    "else:\n",
    "    print('The new columns are NOT correct')"
   ]
  },
  {
   "cell_type": "markdown",
   "metadata": {},
   "source": [
    "### 4 - exercise\n",
    "There is a code snippet below that calculates the distance between two places given their coordinates (a_latitude, a_longitude, b_latitude, b_longitude). Write a function that takes a row from the trip dataframe as input and returns the calculated distance between ths start and the end stations as output. <br>\n",
    "Using the apply method, call this function on the dist_df dataframe and calculate a new column called dist."
   ]
  },
  {
   "cell_type": "code",
   "execution_count": 15,
   "metadata": {},
   "outputs": [],
   "source": [
    "from math import sin, cos, sqrt, atan2, radians\n",
    "\n",
    "R = 6373.0\n",
    "\n",
    "def dist_func(row):\n",
    "    lat1 = radians(row['lat1'])\n",
    "    lon1 = radians(row['lon1'])\n",
    "    lat2 = radians(row['lat2'])\n",
    "    lon2 = radians(row['lon2'])\n",
    "\n",
    "    dlon = lon2 - lon1\n",
    "    dlat = lat2 - lat1\n",
    "\n",
    "    a = sin(dlat / 2)**2 + cos(lat1) * cos(lat2) * sin(dlon / 2)**2\n",
    "    c = 2 * atan2(sqrt(a), sqrt(1 - a))\n",
    "\n",
    "    distance = R * c\n",
    "    return distance"
   ]
  },
  {
   "cell_type": "code",
   "execution_count": 16,
   "metadata": {},
   "outputs": [],
   "source": [
    "dist_df['dist'] = dist_df.apply(lambda x: dist_func(x), axis = 1)"
   ]
  },
  {
   "cell_type": "markdown",
   "metadata": {},
   "source": [
    "### 4 - check yourself"
   ]
  },
  {
   "cell_type": "code",
   "execution_count": 17,
   "metadata": {
    "scrolled": true
   },
   "outputs": [
    {
     "name": "stdout",
     "output_type": "stream",
     "text": [
      "The new column is correct\n"
     ]
    }
   ],
   "source": [
    "if int(dist_df['dist'].max()) == 68:\n",
    "    print('The new column is correct')\n",
    "else:\n",
    "    print('The new column is NOT correct')"
   ]
  },
  {
   "cell_type": "markdown",
   "metadata": {},
   "source": [
    "### 5 - exercise\n",
    "Create a new column in the dist_df called speed. Calculate the values by dividing the distance by the duration. <br>\n",
    "Draw a histogram of the speed column to see if there are extreme values"
   ]
  },
  {
   "cell_type": "code",
   "execution_count": 18,
   "metadata": {
    "scrolled": true
   },
   "outputs": [],
   "source": [
    "# Create a new column in the dist_df called speed. Calculate the values by dividing the distance by the duration\n",
    "dist_df['speed'] = dist_df['dist']/dist_df['duration']"
   ]
  },
  {
   "cell_type": "code",
   "execution_count": 19,
   "metadata": {},
   "outputs": [
    {
     "name": "stderr",
     "output_type": "stream",
     "text": [
      "C:\\Users\\abc\\anaconda3\\lib\\site-packages\\numpy\\lib\\histograms.py:839: RuntimeWarning: invalid value encountered in greater_equal\n",
      "  keep = (tmp_a >= first_edge)\n",
      "C:\\Users\\abc\\anaconda3\\lib\\site-packages\\numpy\\lib\\histograms.py:840: RuntimeWarning: invalid value encountered in less_equal\n",
      "  keep &= (tmp_a <= last_edge)\n"
     ]
    },
    {
     "data": {
      "image/png": "[encoded data removed]",
      "text/plain": [
       "<Figure size 432x288 with 1 Axes>"
      ]
     },
     "metadata": {
      "needs_background": "light"
     },
     "output_type": "display_data"
    }
   ],
   "source": [
    "# Draw a histogram of the speed column to see if there are extreme values\n",
    "plt.hist(dist_df['speed'])\n",
    "plt.show()"
   ]
  },
  {
   "cell_type": "code",
   "execution_count": 20,
   "metadata": {},
   "outputs": [
    {
     "data": {
      "text/html": [
       "<div>\n",
       "<style scoped>\n",
       "    .dataframe tbody tr th:only-of-type {\n",
       "        vertical-align: middle;\n",
       "    }\n",
       "\n",
       "    .dataframe tbody tr th {\n",
       "        vertical-align: top;\n",
       "    }\n",
       "\n",
       "    .dataframe thead th {\n",
       "        text-align: right;\n",
       "    }\n",
       "</style>\n",
       "<table border=\"1\" class=\"dataframe\">\n",
       "  <thead>\n",
       "    <tr style=\"text-align: right;\">\n",
       "      <th></th>\n",
       "      <th>Trip ID</th>\n",
       "      <th>Start Date</th>\n",
       "      <th>Start Station</th>\n",
       "      <th>Start Terminal</th>\n",
       "      <th>End Date</th>\n",
       "      <th>End Station</th>\n",
       "      <th>End Terminal</th>\n",
       "      <th>Bike #</th>\n",
       "      <th>Subscription Type</th>\n",
       "      <th>start_date</th>\n",
       "      <th>end_date</th>\n",
       "      <th>date_to_join</th>\n",
       "      <th>duration</th>\n",
       "      <th>lat1</th>\n",
       "      <th>lon1</th>\n",
       "      <th>lat2</th>\n",
       "      <th>lon2</th>\n",
       "      <th>dist</th>\n",
       "      <th>speed</th>\n",
       "    </tr>\n",
       "  </thead>\n",
       "  <tbody>\n",
       "    <tr>\n",
       "      <th>66648</th>\n",
       "      <td>42493</td>\n",
       "      <td>10/2/2013 8:27</td>\n",
       "      <td>Redwood City Caltrain Station</td>\n",
       "      <td>22</td>\n",
       "      <td>10/2/2013 8:31</td>\n",
       "      <td>Civic Center BART (7th at Market)</td>\n",
       "      <td>72</td>\n",
       "      <td>232</td>\n",
       "      <td>Subscriber</td>\n",
       "      <td>2013-10-02 08:27:00</td>\n",
       "      <td>2013-10-02 08:31:00</td>\n",
       "      <td>2013-10-02</td>\n",
       "      <td>4.0</td>\n",
       "      <td>37.486078</td>\n",
       "      <td>-122.232089</td>\n",
       "      <td>37.780356</td>\n",
       "      <td>-122.412919</td>\n",
       "      <td>36.402467</td>\n",
       "      <td>9.100617</td>\n",
       "    </tr>\n",
       "  </tbody>\n",
       "</table>\n",
       "</div>"
      ],
      "text/plain": [
       "       Trip ID      Start Date                  Start Station  Start Terminal  \\\n",
       "66648    42493  10/2/2013 8:27  Redwood City Caltrain Station              22   \n",
       "\n",
       "             End Date                        End Station  End Terminal  \\\n",
       "66648  10/2/2013 8:31  Civic Center BART (7th at Market)            72   \n",
       "\n",
       "       Bike # Subscription Type          start_date            end_date  \\\n",
       "66648     232        Subscriber 2013-10-02 08:27:00 2013-10-02 08:31:00   \n",
       "\n",
       "      date_to_join  duration       lat1        lon1       lat2        lon2  \\\n",
       "66648   2013-10-02       4.0  37.486078 -122.232089  37.780356 -122.412919   \n",
       "\n",
       "            dist     speed  \n",
       "66648  36.402467  9.100617  "
      ]
     },
     "execution_count": 20,
     "metadata": {},
     "output_type": "execute_result"
    }
   ],
   "source": [
    "# Extreme Value\n",
    "dist_df[dist_df['speed'] > 1]"
   ]
  },
  {
   "cell_type": "markdown",
   "metadata": {},
   "source": [
    "### 5 - check yourslef"
   ]
  },
  {
   "cell_type": "code",
   "execution_count": 21,
   "metadata": {},
   "outputs": [
    {
     "name": "stdout",
     "output_type": "stream",
     "text": [
      "The new column is correct\n"
     ]
    }
   ],
   "source": [
    "if int(dist_df['speed'].max()) == 9:\n",
    "    print('The new column is correct')\n",
    "else:\n",
    "    print('The new column is NOT correct')"
   ]
  },
  {
   "cell_type": "markdown",
   "metadata": {},
   "source": [
    "### 6 - exercise\n",
    "It looks like that there was a very fast trip. Let's assume that it's a data error and filter the row where the speed is above 1. <br>\n",
    "Also replace the 0 values in the speed column by np.nan-s"
   ]
  },
  {
   "cell_type": "code",
   "execution_count": 22,
   "metadata": {},
   "outputs": [],
   "source": [
    "# Filter the row where the speed is above 1\n",
    "dist_df = dist_df[dist_df['speed'] <= 1]\n",
    "\n",
    "# Replace the 0 values in the speed column by np.nan\n",
    "dist_df['speed'] = dist_df['speed'].apply(lambda x: np.nan if x == 0 else x)\n"
   ]
  },
  {
   "cell_type": "markdown",
   "metadata": {},
   "source": [
    "### 6 - check yourslef"
   ]
  },
  {
   "cell_type": "code",
   "execution_count": 23,
   "metadata": {},
   "outputs": [
    {
     "name": "stdout",
     "output_type": "stream",
     "text": [
      "The speed column is correct\n"
     ]
    }
   ],
   "source": [
    "if dist_df['speed'].max() < 1 and dist_df['speed'].min() > 0:\n",
    "    print('The speed column is correct')\n",
    "else:\n",
    "    print('The speed column is NOT correct')"
   ]
  },
  {
   "cell_type": "markdown",
   "metadata": {},
   "source": [
    "### 7 - exercise\n",
    "- Create a new column in the trip dataframe called circle. The value should be circle if the start and the end station is the same and no_circle otherwise. \n",
    "- Create a new dataframe called circle ratio where there is a row for each station and a column for the circle/not_circle ratio of all trips starting at that station. You'll have to group the trip dataframe and pivot the grouped dataframe.\n",
    "- Similarly, create a dataframe called subs_ratio where the trips made by customers/ trips made by subscribers ratio can be found for all stations\n",
    "- As an advanced task create a function that takes the trip dataframe, the name of the column to group by and the name of the column to calculate the ratio from and returns the transformed dataframe "
   ]
  },
  {
   "cell_type": "code",
   "execution_count": 24,
   "metadata": {},
   "outputs": [],
   "source": [
    "# Create a new column in the trip dataframe called circle. The value should be circle if the start and the end station is the same and no_circle otherwise\n",
    "trip['circle'] = trip.apply(lambda x: 'circle' if x['Start Station'] == x['End Station'] else 'no_circle', axis = 1)"
   ]
  },
  {
   "cell_type": "code",
   "execution_count": 25,
   "metadata": {},
   "outputs": [],
   "source": [
    "# Create a new dataframe called circle ratio where there is a row for each station and a column for the circle/not_circle ratio of all trips starting at that station. You'll have to group the trip dataframe and pivot the grouped dataframe\n",
    "circle_ratio = pd.DataFrame(columns= ['name', 'circ_ratio'])\n",
    "\n",
    "for x in station['name']:\n",
    "    station_filter = trip[trip['Start Station'] == x]\n",
    "    circle_count = len(station_filter[station_filter['circle'] == 'circle'])\n",
    "    no_circle_count = len(station_filter[station_filter['circle'] == 'no_circle'])\n",
    "    ratio = circle_count/no_circle_count\n",
    "    circle_ratio = circle_ratio.append(pd.Series([x,ratio], index=circle_ratio.columns), ignore_index=True)\n"
   ]
  },
  {
   "cell_type": "code",
   "execution_count": 26,
   "metadata": {},
   "outputs": [
    {
     "data": {
      "text/html": [
       "<div>\n",
       "<style scoped>\n",
       "    .dataframe tbody tr th:only-of-type {\n",
       "        vertical-align: middle;\n",
       "    }\n",
       "\n",
       "    .dataframe tbody tr th {\n",
       "        vertical-align: top;\n",
       "    }\n",
       "\n",
       "    .dataframe thead th {\n",
       "        text-align: right;\n",
       "    }\n",
       "</style>\n",
       "<table border=\"1\" class=\"dataframe\">\n",
       "  <thead>\n",
       "    <tr style=\"text-align: right;\">\n",
       "      <th></th>\n",
       "      <th>name</th>\n",
       "      <th>circ_ratio</th>\n",
       "    </tr>\n",
       "  </thead>\n",
       "  <tbody>\n",
       "    <tr>\n",
       "      <th>50</th>\n",
       "      <td>2nd at Folsom</td>\n",
       "      <td>0.019989</td>\n",
       "    </tr>\n",
       "    <tr>\n",
       "      <th>52</th>\n",
       "      <td>2nd at South Park</td>\n",
       "      <td>0.033883</td>\n",
       "    </tr>\n",
       "    <tr>\n",
       "      <th>49</th>\n",
       "      <td>2nd at Townsend</td>\n",
       "      <td>0.038093</td>\n",
       "    </tr>\n",
       "    <tr>\n",
       "      <th>45</th>\n",
       "      <td>5th at Howard</td>\n",
       "      <td>0.048548</td>\n",
       "    </tr>\n",
       "    <tr>\n",
       "      <th>3</th>\n",
       "      <td>Adobe on Almaden</td>\n",
       "      <td>0.102310</td>\n",
       "    </tr>\n",
       "    <tr>\n",
       "      <th>...</th>\n",
       "      <td>...</td>\n",
       "      <td>...</td>\n",
       "    </tr>\n",
       "    <tr>\n",
       "      <th>43</th>\n",
       "      <td>Temporary Transbay Terminal (Howard at Beale)</td>\n",
       "      <td>0.020767</td>\n",
       "    </tr>\n",
       "    <tr>\n",
       "      <th>53</th>\n",
       "      <td>Townsend at 7th</td>\n",
       "      <td>0.028617</td>\n",
       "    </tr>\n",
       "    <tr>\n",
       "      <th>28</th>\n",
       "      <td>University and Emerson</td>\n",
       "      <td>1.630303</td>\n",
       "    </tr>\n",
       "    <tr>\n",
       "      <th>36</th>\n",
       "      <td>Washington at Kearney</td>\n",
       "      <td>0.064353</td>\n",
       "    </tr>\n",
       "    <tr>\n",
       "      <th>56</th>\n",
       "      <td>Yerba Buena Center of the Arts (3rd @ Howard)</td>\n",
       "      <td>0.040184</td>\n",
       "    </tr>\n",
       "  </tbody>\n",
       "</table>\n",
       "<p>69 rows × 2 columns</p>\n",
       "</div>"
      ],
      "text/plain": [
       "                                             name  circ_ratio\n",
       "50                                  2nd at Folsom    0.019989\n",
       "52                              2nd at South Park    0.033883\n",
       "49                                2nd at Townsend    0.038093\n",
       "45                                  5th at Howard    0.048548\n",
       "3                                Adobe on Almaden    0.102310\n",
       "..                                            ...         ...\n",
       "43  Temporary Transbay Terminal (Howard at Beale)    0.020767\n",
       "53                                Townsend at 7th    0.028617\n",
       "28                         University and Emerson    1.630303\n",
       "36                          Washington at Kearney    0.064353\n",
       "56  Yerba Buena Center of the Arts (3rd @ Howard)    0.040184\n",
       "\n",
       "[69 rows x 2 columns]"
      ]
     },
     "execution_count": 26,
     "metadata": {},
     "output_type": "execute_result"
    }
   ],
   "source": [
    "circle_ratio.sort_values(by=['name'])"
   ]
  },
  {
   "cell_type": "code",
   "execution_count": 27,
   "metadata": {},
   "outputs": [],
   "source": [
    "# Create a dataframe called subs_ratio where the trips made by customers/ trips made by subscribers ratio can be found for all stations\n",
    "subs_ratio = pd.DataFrame(columns= ['name', 'sub_ratio'])\n",
    "\n",
    "for x in station['name']:\n",
    "    station_filter = trip[trip['Start Station'] == x]\n",
    "    sub_count = len(station_filter[station_filter['Subscription Type'] == 'Subscriber'])\n",
    "    cust_count = len(station_filter[station_filter['Subscription Type'] == 'Customer'])\n",
    "    ratio = cust_count/sub_count\n",
    "    subs_ratio = subs_ratio.append(pd.Series([x,ratio], index=subs_ratio.columns), ignore_index=True)"
   ]
  },
  {
   "cell_type": "code",
   "execution_count": 28,
   "metadata": {},
   "outputs": [
    {
     "data": {
      "text/html": [
       "<div>\n",
       "<style scoped>\n",
       "    .dataframe tbody tr th:only-of-type {\n",
       "        vertical-align: middle;\n",
       "    }\n",
       "\n",
       "    .dataframe tbody tr th {\n",
       "        vertical-align: top;\n",
       "    }\n",
       "\n",
       "    .dataframe thead th {\n",
       "        text-align: right;\n",
       "    }\n",
       "</style>\n",
       "<table border=\"1\" class=\"dataframe\">\n",
       "  <thead>\n",
       "    <tr style=\"text-align: right;\">\n",
       "      <th></th>\n",
       "      <th>name</th>\n",
       "      <th>sub_ratio</th>\n",
       "    </tr>\n",
       "  </thead>\n",
       "  <tbody>\n",
       "    <tr>\n",
       "      <th>0</th>\n",
       "      <td>San Jose Diridon Caltrain Station</td>\n",
       "      <td>0.126214</td>\n",
       "    </tr>\n",
       "    <tr>\n",
       "      <th>1</th>\n",
       "      <td>San Jose Civic Center</td>\n",
       "      <td>1.135802</td>\n",
       "    </tr>\n",
       "    <tr>\n",
       "      <th>2</th>\n",
       "      <td>Santa Clara at Almaden</td>\n",
       "      <td>0.123522</td>\n",
       "    </tr>\n",
       "    <tr>\n",
       "      <th>3</th>\n",
       "      <td>Adobe on Almaden</td>\n",
       "      <td>0.289575</td>\n",
       "    </tr>\n",
       "    <tr>\n",
       "      <th>4</th>\n",
       "      <td>San Pedro Square</td>\n",
       "      <td>0.347826</td>\n",
       "    </tr>\n",
       "    <tr>\n",
       "      <th>...</th>\n",
       "      <td>...</td>\n",
       "      <td>...</td>\n",
       "    </tr>\n",
       "    <tr>\n",
       "      <th>64</th>\n",
       "      <td>Market at 4th</td>\n",
       "      <td>0.379046</td>\n",
       "    </tr>\n",
       "    <tr>\n",
       "      <th>65</th>\n",
       "      <td>Market at Sansome</td>\n",
       "      <td>0.196162</td>\n",
       "    </tr>\n",
       "    <tr>\n",
       "      <th>66</th>\n",
       "      <td>San Jose Government Center</td>\n",
       "      <td>0.916667</td>\n",
       "    </tr>\n",
       "    <tr>\n",
       "      <th>67</th>\n",
       "      <td>Broadway St at Battery St</td>\n",
       "      <td>0.110497</td>\n",
       "    </tr>\n",
       "    <tr>\n",
       "      <th>68</th>\n",
       "      <td>Mezes Park</td>\n",
       "      <td>2.000000</td>\n",
       "    </tr>\n",
       "  </tbody>\n",
       "</table>\n",
       "<p>69 rows × 2 columns</p>\n",
       "</div>"
      ],
      "text/plain": [
       "                                 name  sub_ratio\n",
       "0   San Jose Diridon Caltrain Station   0.126214\n",
       "1               San Jose Civic Center   1.135802\n",
       "2              Santa Clara at Almaden   0.123522\n",
       "3                    Adobe on Almaden   0.289575\n",
       "4                    San Pedro Square   0.347826\n",
       "..                                ...        ...\n",
       "64                      Market at 4th   0.379046\n",
       "65                  Market at Sansome   0.196162\n",
       "66         San Jose Government Center   0.916667\n",
       "67          Broadway St at Battery St   0.110497\n",
       "68                         Mezes Park   2.000000\n",
       "\n",
       "[69 rows x 2 columns]"
      ]
     },
     "execution_count": 28,
     "metadata": {},
     "output_type": "execute_result"
    }
   ],
   "source": [
    "subs_ratio"
   ]
  },
  {
   "cell_type": "markdown",
   "metadata": {},
   "source": [
    "### 7 - check yourself"
   ]
  },
  {
   "cell_type": "code",
   "execution_count": 29,
   "metadata": {},
   "outputs": [
    {
     "name": "stdout",
     "output_type": "stream",
     "text": [
      "The dataframes are correct\n"
     ]
    }
   ],
   "source": [
    "if len(subs_ratio) == len(circle_ratio) == 69:\n",
    "    print('The dataframes are correct')\n",
    "else:\n",
    "    print('The dataframes are NOT correct')"
   ]
  },
  {
   "cell_type": "markdown",
   "metadata": {},
   "source": [
    "### 8 - exercise\n",
    "- Create a new dataframe where the average trip duration and speed is given for each start station. You can get this dataframe from the dist_df you've created above\n",
    "- Create another one where the number of trips is given for each start station\n",
    "- Merge these two dataframes with the station dataframe and also merge the circle_ratio and subs_ratio datagrames to it. At the end you should have one dataframe called features_df where there is a row for all the stations and columns for the:\n",
    "    - dockcount\n",
    "    - average duration\n",
    "    - average speed\n",
    "    - number of trips\n",
    "    - ratio of customers/subscribers\n",
    "    - ratio of circle trips/not circle trips <br>\n",
    "- Call these columns to ['Start Station','dockcount', 'duration', 'speed', 'trip_num','circle_per_not_circle', 'Customer_per_Subscriber'] and drop the other columns"
   ]
  },
  {
   "cell_type": "code",
   "execution_count": 30,
   "metadata": {},
   "outputs": [],
   "source": [
    "new_df = dist_df.groupby(\"Start Station\").agg({'duration':'mean','speed':'mean'}).rename(\n",
    "    columns={'duration':'avg_duration','speed':'avg_speed'})\n",
    "\n",
    "nb_trips = trip.groupby(\"Start Station\").size().reset_index().rename(columns = {0:'trip_num'})"
   ]
  },
  {
   "cell_type": "code",
   "execution_count": 31,
   "metadata": {},
   "outputs": [],
   "source": [
    "station = pd.merge(station, new_df, how = \"inner\", left_on = 'name', right_on = 'Start Station')\n",
    "station = pd.merge(station, nb_trips, how = \"inner\", left_on = 'name', right_on = 'Start Station')\n",
    "station = pd.merge(station, circle_ratio, how = \"inner\", on = 'name')\n",
    "station = pd.merge(station, subs_ratio, how = \"inner\", on = 'name')"
   ]
  },
  {
   "cell_type": "code",
   "execution_count": 32,
   "metadata": {},
   "outputs": [
    {
     "data": {
      "text/html": [
       "<div>\n",
       "<style scoped>\n",
       "    .dataframe tbody tr th:only-of-type {\n",
       "        vertical-align: middle;\n",
       "    }\n",
       "\n",
       "    .dataframe tbody tr th {\n",
       "        vertical-align: top;\n",
       "    }\n",
       "\n",
       "    .dataframe thead th {\n",
       "        text-align: right;\n",
       "    }\n",
       "</style>\n",
       "<table border=\"1\" class=\"dataframe\">\n",
       "  <thead>\n",
       "    <tr style=\"text-align: right;\">\n",
       "      <th></th>\n",
       "      <th>station_id</th>\n",
       "      <th>name</th>\n",
       "      <th>lat</th>\n",
       "      <th>long</th>\n",
       "      <th>dockcount</th>\n",
       "      <th>installation</th>\n",
       "      <th>zip_code</th>\n",
       "      <th>avg_duration</th>\n",
       "      <th>avg_speed</th>\n",
       "      <th>Start Station</th>\n",
       "      <th>trip_num</th>\n",
       "      <th>circ_ratio</th>\n",
       "      <th>sub_ratio</th>\n",
       "    </tr>\n",
       "  </thead>\n",
       "  <tbody>\n",
       "    <tr>\n",
       "      <th>0</th>\n",
       "      <td>2</td>\n",
       "      <td>San Jose Diridon Caltrain Station</td>\n",
       "      <td>37.329732</td>\n",
       "      <td>-121.901782</td>\n",
       "      <td>27</td>\n",
       "      <td>8/6/2013</td>\n",
       "      <td>95112</td>\n",
       "      <td>10.074924</td>\n",
       "      <td>0.160343</td>\n",
       "      <td>San Jose Diridon Caltrain Station</td>\n",
       "      <td>1972</td>\n",
       "      <td>0.036259</td>\n",
       "      <td>0.126214</td>\n",
       "    </tr>\n",
       "    <tr>\n",
       "      <th>1</th>\n",
       "      <td>3</td>\n",
       "      <td>San Jose Civic Center</td>\n",
       "      <td>37.330698</td>\n",
       "      <td>-121.888979</td>\n",
       "      <td>15</td>\n",
       "      <td>8/5/2013</td>\n",
       "      <td>95121</td>\n",
       "      <td>27.798817</td>\n",
       "      <td>0.105868</td>\n",
       "      <td>San Jose Civic Center</td>\n",
       "      <td>346</td>\n",
       "      <td>0.310606</td>\n",
       "      <td>1.135802</td>\n",
       "    </tr>\n",
       "    <tr>\n",
       "      <th>2</th>\n",
       "      <td>4</td>\n",
       "      <td>Santa Clara at Almaden</td>\n",
       "      <td>37.333988</td>\n",
       "      <td>-121.894902</td>\n",
       "      <td>11</td>\n",
       "      <td>8/6/2013</td>\n",
       "      <td>95155</td>\n",
       "      <td>8.010626</td>\n",
       "      <td>0.152166</td>\n",
       "      <td>Santa Clara at Almaden</td>\n",
       "      <td>855</td>\n",
       "      <td>0.041413</td>\n",
       "      <td>0.123522</td>\n",
       "    </tr>\n",
       "    <tr>\n",
       "      <th>3</th>\n",
       "      <td>5</td>\n",
       "      <td>Adobe on Almaden</td>\n",
       "      <td>37.331415</td>\n",
       "      <td>-121.893200</td>\n",
       "      <td>19</td>\n",
       "      <td>8/5/2013</td>\n",
       "      <td>95121</td>\n",
       "      <td>10.918429</td>\n",
       "      <td>0.134878</td>\n",
       "      <td>Adobe on Almaden</td>\n",
       "      <td>334</td>\n",
       "      <td>0.102310</td>\n",
       "      <td>0.289575</td>\n",
       "    </tr>\n",
       "    <tr>\n",
       "      <th>4</th>\n",
       "      <td>6</td>\n",
       "      <td>San Pedro Square</td>\n",
       "      <td>37.336721</td>\n",
       "      <td>-121.894074</td>\n",
       "      <td>15</td>\n",
       "      <td>8/7/2013</td>\n",
       "      <td>94089</td>\n",
       "      <td>12.853521</td>\n",
       "      <td>0.126054</td>\n",
       "      <td>San Pedro Square</td>\n",
       "      <td>713</td>\n",
       "      <td>0.093558</td>\n",
       "      <td>0.347826</td>\n",
       "    </tr>\n",
       "    <tr>\n",
       "      <th>...</th>\n",
       "      <td>...</td>\n",
       "      <td>...</td>\n",
       "      <td>...</td>\n",
       "      <td>...</td>\n",
       "      <td>...</td>\n",
       "      <td>...</td>\n",
       "      <td>...</td>\n",
       "      <td>...</td>\n",
       "      <td>...</td>\n",
       "      <td>...</td>\n",
       "      <td>...</td>\n",
       "      <td>...</td>\n",
       "      <td>...</td>\n",
       "    </tr>\n",
       "    <tr>\n",
       "      <th>64</th>\n",
       "      <td>76</td>\n",
       "      <td>Market at 4th</td>\n",
       "      <td>37.786305</td>\n",
       "      <td>-122.404966</td>\n",
       "      <td>19</td>\n",
       "      <td>8/25/2013</td>\n",
       "      <td>94158</td>\n",
       "      <td>17.431997</td>\n",
       "      <td>0.143764</td>\n",
       "      <td>Market at 4th</td>\n",
       "      <td>5028</td>\n",
       "      <td>0.044671</td>\n",
       "      <td>0.379046</td>\n",
       "    </tr>\n",
       "    <tr>\n",
       "      <th>65</th>\n",
       "      <td>77</td>\n",
       "      <td>Market at Sansome</td>\n",
       "      <td>37.789625</td>\n",
       "      <td>-122.400811</td>\n",
       "      <td>27</td>\n",
       "      <td>8/25/2013</td>\n",
       "      <td>94131</td>\n",
       "      <td>13.175841</td>\n",
       "      <td>0.146035</td>\n",
       "      <td>Market at Sansome</td>\n",
       "      <td>5921</td>\n",
       "      <td>0.022625</td>\n",
       "      <td>0.196162</td>\n",
       "    </tr>\n",
       "    <tr>\n",
       "      <th>66</th>\n",
       "      <td>80</td>\n",
       "      <td>San Jose Government Center</td>\n",
       "      <td>37.352601</td>\n",
       "      <td>-121.905733</td>\n",
       "      <td>15</td>\n",
       "      <td>12/31/2013</td>\n",
       "      <td>95035</td>\n",
       "      <td>17.652174</td>\n",
       "      <td>0.110022</td>\n",
       "      <td>San Jose Government Center</td>\n",
       "      <td>23</td>\n",
       "      <td>0.000000</td>\n",
       "      <td>0.916667</td>\n",
       "    </tr>\n",
       "    <tr>\n",
       "      <th>67</th>\n",
       "      <td>82</td>\n",
       "      <td>Broadway St at Battery St</td>\n",
       "      <td>37.798541</td>\n",
       "      <td>-122.400862</td>\n",
       "      <td>15</td>\n",
       "      <td>1/22/2014</td>\n",
       "      <td>94132</td>\n",
       "      <td>12.895522</td>\n",
       "      <td>0.168072</td>\n",
       "      <td>Broadway St at Battery St</td>\n",
       "      <td>201</td>\n",
       "      <td>0.030769</td>\n",
       "      <td>0.110497</td>\n",
       "    </tr>\n",
       "    <tr>\n",
       "      <th>68</th>\n",
       "      <td>83</td>\n",
       "      <td>Mezes Park</td>\n",
       "      <td>37.491269</td>\n",
       "      <td>-122.236234</td>\n",
       "      <td>15</td>\n",
       "      <td>2/20/2014</td>\n",
       "      <td>94063</td>\n",
       "      <td>7.333333</td>\n",
       "      <td>0.145350</td>\n",
       "      <td>Mezes Park</td>\n",
       "      <td>3</td>\n",
       "      <td>0.000000</td>\n",
       "      <td>2.000000</td>\n",
       "    </tr>\n",
       "  </tbody>\n",
       "</table>\n",
       "<p>69 rows × 13 columns</p>\n",
       "</div>"
      ],
      "text/plain": [
       "    station_id                               name        lat        long  \\\n",
       "0            2  San Jose Diridon Caltrain Station  37.329732 -121.901782   \n",
       "1            3              San Jose Civic Center  37.330698 -121.888979   \n",
       "2            4             Santa Clara at Almaden  37.333988 -121.894902   \n",
       "3            5                   Adobe on Almaden  37.331415 -121.893200   \n",
       "4            6                   San Pedro Square  37.336721 -121.894074   \n",
       "..         ...                                ...        ...         ...   \n",
       "64          76                      Market at 4th  37.786305 -122.404966   \n",
       "65          77                  Market at Sansome  37.789625 -122.400811   \n",
       "66          80         San Jose Government Center  37.352601 -121.905733   \n",
       "67          82          Broadway St at Battery St  37.798541 -122.400862   \n",
       "68          83                         Mezes Park  37.491269 -122.236234   \n",
       "\n",
       "    dockcount installation  zip_code  avg_duration  avg_speed  \\\n",
       "0          27     8/6/2013     95112     10.074924   0.160343   \n",
       "1          15     8/5/2013     95121     27.798817   0.105868   \n",
       "2          11     8/6/2013     95155      8.010626   0.152166   \n",
       "3          19     8/5/2013     95121     10.918429   0.134878   \n",
       "4          15     8/7/2013     94089     12.853521   0.126054   \n",
       "..        ...          ...       ...           ...        ...   \n",
       "64         19    8/25/2013     94158     17.431997   0.143764   \n",
       "65         27    8/25/2013     94131     13.175841   0.146035   \n",
       "66         15   12/31/2013     95035     17.652174   0.110022   \n",
       "67         15    1/22/2014     94132     12.895522   0.168072   \n",
       "68         15    2/20/2014     94063      7.333333   0.145350   \n",
       "\n",
       "                        Start Station  trip_num  circ_ratio  sub_ratio  \n",
       "0   San Jose Diridon Caltrain Station      1972    0.036259   0.126214  \n",
       "1               San Jose Civic Center       346    0.310606   1.135802  \n",
       "2              Santa Clara at Almaden       855    0.041413   0.123522  \n",
       "3                    Adobe on Almaden       334    0.102310   0.289575  \n",
       "4                    San Pedro Square       713    0.093558   0.347826  \n",
       "..                                ...       ...         ...        ...  \n",
       "64                      Market at 4th      5028    0.044671   0.379046  \n",
       "65                  Market at Sansome      5921    0.022625   0.196162  \n",
       "66         San Jose Government Center        23    0.000000   0.916667  \n",
       "67          Broadway St at Battery St       201    0.030769   0.110497  \n",
       "68                         Mezes Park         3    0.000000   2.000000  \n",
       "\n",
       "[69 rows x 13 columns]"
      ]
     },
     "execution_count": 32,
     "metadata": {},
     "output_type": "execute_result"
    }
   ],
   "source": [
    "station"
   ]
  },
  {
   "cell_type": "code",
   "execution_count": 33,
   "metadata": {},
   "outputs": [],
   "source": [
    "features_df = pd.DataFrame(station, columns = ['name','dockcount', 'avg_duration', 'avg_speed', 'trip_num','circ_ratio','sub_ratio'])\n",
    "column_names = ['Start Station','dockcount', 'duration', 'speed', 'trip_num','circle_per_not_circle', 'Customer_per_Subscriber']\n",
    "features_df.columns = column_names"
   ]
  },
  {
   "cell_type": "code",
   "execution_count": 34,
   "metadata": {},
   "outputs": [
    {
     "data": {
      "text/html": [
       "<div>\n",
       "<style scoped>\n",
       "    .dataframe tbody tr th:only-of-type {\n",
       "        vertical-align: middle;\n",
       "    }\n",
       "\n",
       "    .dataframe tbody tr th {\n",
       "        vertical-align: top;\n",
       "    }\n",
       "\n",
       "    .dataframe thead th {\n",
       "        text-align: right;\n",
       "    }\n",
       "</style>\n",
       "<table border=\"1\" class=\"dataframe\">\n",
       "  <thead>\n",
       "    <tr style=\"text-align: right;\">\n",
       "      <th></th>\n",
       "      <th>Start Station</th>\n",
       "      <th>dockcount</th>\n",
       "      <th>duration</th>\n",
       "      <th>speed</th>\n",
       "      <th>trip_num</th>\n",
       "      <th>circle_per_not_circle</th>\n",
       "      <th>Customer_per_Subscriber</th>\n",
       "    </tr>\n",
       "  </thead>\n",
       "  <tbody>\n",
       "    <tr>\n",
       "      <th>0</th>\n",
       "      <td>2nd at Folsom</td>\n",
       "      <td>19</td>\n",
       "      <td>8.875232</td>\n",
       "      <td>0.150016</td>\n",
       "      <td>3776</td>\n",
       "      <td>0.019989</td>\n",
       "      <td>0.127501</td>\n",
       "    </tr>\n",
       "    <tr>\n",
       "      <th>1</th>\n",
       "      <td>2nd at South Park</td>\n",
       "      <td>15</td>\n",
       "      <td>10.053981</td>\n",
       "      <td>0.157008</td>\n",
       "      <td>4455</td>\n",
       "      <td>0.033883</td>\n",
       "      <td>0.136190</td>\n",
       "    </tr>\n",
       "    <tr>\n",
       "      <th>2</th>\n",
       "      <td>2nd at Townsend</td>\n",
       "      <td>27</td>\n",
       "      <td>12.242863</td>\n",
       "      <td>0.164938</td>\n",
       "      <td>4987</td>\n",
       "      <td>0.038093</td>\n",
       "      <td>0.214860</td>\n",
       "    </tr>\n",
       "    <tr>\n",
       "      <th>3</th>\n",
       "      <td>5th at Howard</td>\n",
       "      <td>15</td>\n",
       "      <td>13.450499</td>\n",
       "      <td>0.148370</td>\n",
       "      <td>2635</td>\n",
       "      <td>0.048548</td>\n",
       "      <td>0.298669</td>\n",
       "    </tr>\n",
       "    <tr>\n",
       "      <th>4</th>\n",
       "      <td>Adobe on Almaden</td>\n",
       "      <td>19</td>\n",
       "      <td>10.918429</td>\n",
       "      <td>0.134878</td>\n",
       "      <td>334</td>\n",
       "      <td>0.102310</td>\n",
       "      <td>0.289575</td>\n",
       "    </tr>\n",
       "    <tr>\n",
       "      <th>...</th>\n",
       "      <td>...</td>\n",
       "      <td>...</td>\n",
       "      <td>...</td>\n",
       "      <td>...</td>\n",
       "      <td>...</td>\n",
       "      <td>...</td>\n",
       "      <td>...</td>\n",
       "    </tr>\n",
       "    <tr>\n",
       "      <th>64</th>\n",
       "      <td>Temporary Transbay Terminal (Howard at Beale)</td>\n",
       "      <td>23</td>\n",
       "      <td>10.073529</td>\n",
       "      <td>0.148166</td>\n",
       "      <td>5112</td>\n",
       "      <td>0.020767</td>\n",
       "      <td>0.091142</td>\n",
       "    </tr>\n",
       "    <tr>\n",
       "      <th>65</th>\n",
       "      <td>Townsend at 7th</td>\n",
       "      <td>15</td>\n",
       "      <td>10.402855</td>\n",
       "      <td>0.182102</td>\n",
       "      <td>4493</td>\n",
       "      <td>0.028617</td>\n",
       "      <td>0.130314</td>\n",
       "    </tr>\n",
       "    <tr>\n",
       "      <th>66</th>\n",
       "      <td>University and Emerson</td>\n",
       "      <td>11</td>\n",
       "      <td>57.851675</td>\n",
       "      <td>0.150234</td>\n",
       "      <td>434</td>\n",
       "      <td>1.630303</td>\n",
       "      <td>3.094340</td>\n",
       "    </tr>\n",
       "    <tr>\n",
       "      <th>67</th>\n",
       "      <td>Washington at Kearney</td>\n",
       "      <td>15</td>\n",
       "      <td>21.253296</td>\n",
       "      <td>0.115904</td>\n",
       "      <td>1472</td>\n",
       "      <td>0.064353</td>\n",
       "      <td>0.615807</td>\n",
       "    </tr>\n",
       "    <tr>\n",
       "      <th>68</th>\n",
       "      <td>Yerba Buena Center of the Arts (3rd @ Howard)</td>\n",
       "      <td>19</td>\n",
       "      <td>14.547040</td>\n",
       "      <td>0.140530</td>\n",
       "      <td>2485</td>\n",
       "      <td>0.040184</td>\n",
       "      <td>0.336740</td>\n",
       "    </tr>\n",
       "  </tbody>\n",
       "</table>\n",
       "<p>69 rows × 7 columns</p>\n",
       "</div>"
      ],
      "text/plain": [
       "                                    Start Station  dockcount   duration  \\\n",
       "0                                   2nd at Folsom         19   8.875232   \n",
       "1                               2nd at South Park         15  10.053981   \n",
       "2                                 2nd at Townsend         27  12.242863   \n",
       "3                                   5th at Howard         15  13.450499   \n",
       "4                                Adobe on Almaden         19  10.918429   \n",
       "..                                            ...        ...        ...   \n",
       "64  Temporary Transbay Terminal (Howard at Beale)         23  10.073529   \n",
       "65                                Townsend at 7th         15  10.402855   \n",
       "66                         University and Emerson         11  57.851675   \n",
       "67                          Washington at Kearney         15  21.253296   \n",
       "68  Yerba Buena Center of the Arts (3rd @ Howard)         19  14.547040   \n",
       "\n",
       "       speed  trip_num  circle_per_not_circle  Customer_per_Subscriber  \n",
       "0   0.150016      3776               0.019989                 0.127501  \n",
       "1   0.157008      4455               0.033883                 0.136190  \n",
       "2   0.164938      4987               0.038093                 0.214860  \n",
       "3   0.148370      2635               0.048548                 0.298669  \n",
       "4   0.134878       334               0.102310                 0.289575  \n",
       "..       ...       ...                    ...                      ...  \n",
       "64  0.148166      5112               0.020767                 0.091142  \n",
       "65  0.182102      4493               0.028617                 0.130314  \n",
       "66  0.150234       434               1.630303                 3.094340  \n",
       "67  0.115904      1472               0.064353                 0.615807  \n",
       "68  0.140530      2485               0.040184                 0.336740  \n",
       "\n",
       "[69 rows x 7 columns]"
      ]
     },
     "execution_count": 34,
     "metadata": {},
     "output_type": "execute_result"
    }
   ],
   "source": [
    "features_df = features_df.sort_values(by=['Start Station']).reset_index(drop=True)\n",
    "features_df"
   ]
  },
  {
   "cell_type": "markdown",
   "metadata": {},
   "source": [
    "### 8 - check yourself"
   ]
  },
  {
   "cell_type": "code",
   "execution_count": 35,
   "metadata": {
    "scrolled": true
   },
   "outputs": [
    {
     "name": "stdout",
     "output_type": "stream",
     "text": [
      "The dataframe is correct\n"
     ]
    }
   ],
   "source": [
    "if dict(features_df.max()) == {'Customer_per_Subscriber': 3.0943396226415096,\n",
    " 'Start Station': 'Yerba Buena Center of the Arts (3rd @ Howard)',\n",
    " 'circle_per_not_circle': 1.6303030303030304,\n",
    " 'dockcount': 27,\n",
    " 'duration': 57.85167464114833,\n",
    " 'speed': 0.23527836032786675,\n",
    " 'trip_num': 9836}:\n",
    "    print('The dataframe is correct')\n",
    "else:\n",
    "    print('The dataframe is NOT correct')"
   ]
  },
  {
   "cell_type": "code",
   "execution_count": 36,
   "metadata": {},
   "outputs": [
    {
     "data": {
      "text/plain": [
       "Start Station              Yerba Buena Center of the Arts (3rd @ Howard)\n",
       "dockcount                                                             27\n",
       "duration                                                         57.8517\n",
       "speed                                                           0.235278\n",
       "trip_num                                                            9836\n",
       "circle_per_not_circle                                             1.6303\n",
       "Customer_per_Subscriber                                          3.09434\n",
       "dtype: object"
      ]
     },
     "execution_count": 36,
     "metadata": {},
     "output_type": "execute_result"
    }
   ],
   "source": [
    "features_df.max()"
   ]
  },
  {
   "cell_type": "markdown",
   "metadata": {},
   "source": [
    "### 9 - exercise\n",
    "\n",
    "Use K-means clustering on the feature_df (without hte Start Station column) to find clusters among the stations. Experiment with the init_method and the number of clusters. You can also exclude columns. <br>\n",
    "When you find a method that gives meaningful clusters, visualize it and write one sentence about each cluster that describes what makes it different from the other ones. <br><br>"
   ]
  },
  {
   "cell_type": "code",
   "execution_count": 37,
   "metadata": {},
   "outputs": [],
   "source": [
    "from sklearn.preprocessing import scale\n",
    "from sklearn.cluster import KMeans\n",
    "from sklearn.decomposition import PCA\n",
    "from collections import Counter\n",
    "import seaborn as sns\n",
    "import pandas as pd\n",
    "import numpy as np"
   ]
  },
  {
   "cell_type": "code",
   "execution_count": 138,
   "metadata": {},
   "outputs": [
    {
     "data": {
      "text/html": [
       "<div>\n",
       "<style scoped>\n",
       "    .dataframe tbody tr th:only-of-type {\n",
       "        vertical-align: middle;\n",
       "    }\n",
       "\n",
       "    .dataframe tbody tr th {\n",
       "        vertical-align: top;\n",
       "    }\n",
       "\n",
       "    .dataframe thead th {\n",
       "        text-align: right;\n",
       "    }\n",
       "</style>\n",
       "<table border=\"1\" class=\"dataframe\">\n",
       "  <thead>\n",
       "    <tr style=\"text-align: right;\">\n",
       "      <th></th>\n",
       "      <th>dockcount</th>\n",
       "      <th>duration</th>\n",
       "      <th>speed</th>\n",
       "      <th>trip_num</th>\n",
       "      <th>circle_per_not_circle</th>\n",
       "      <th>Customer_per_Subscriber</th>\n",
       "    </tr>\n",
       "  </thead>\n",
       "  <tbody>\n",
       "    <tr>\n",
       "      <th>0</th>\n",
       "      <td>19</td>\n",
       "      <td>8.875232</td>\n",
       "      <td>0.150016</td>\n",
       "      <td>3776</td>\n",
       "      <td>0.019989</td>\n",
       "      <td>0.127501</td>\n",
       "    </tr>\n",
       "    <tr>\n",
       "      <th>1</th>\n",
       "      <td>15</td>\n",
       "      <td>10.053981</td>\n",
       "      <td>0.157008</td>\n",
       "      <td>4455</td>\n",
       "      <td>0.033883</td>\n",
       "      <td>0.136190</td>\n",
       "    </tr>\n",
       "    <tr>\n",
       "      <th>2</th>\n",
       "      <td>27</td>\n",
       "      <td>12.242863</td>\n",
       "      <td>0.164938</td>\n",
       "      <td>4987</td>\n",
       "      <td>0.038093</td>\n",
       "      <td>0.214860</td>\n",
       "    </tr>\n",
       "    <tr>\n",
       "      <th>3</th>\n",
       "      <td>15</td>\n",
       "      <td>13.450499</td>\n",
       "      <td>0.148370</td>\n",
       "      <td>2635</td>\n",
       "      <td>0.048548</td>\n",
       "      <td>0.298669</td>\n",
       "    </tr>\n",
       "    <tr>\n",
       "      <th>4</th>\n",
       "      <td>19</td>\n",
       "      <td>10.918429</td>\n",
       "      <td>0.134878</td>\n",
       "      <td>334</td>\n",
       "      <td>0.102310</td>\n",
       "      <td>0.289575</td>\n",
       "    </tr>\n",
       "    <tr>\n",
       "      <th>...</th>\n",
       "      <td>...</td>\n",
       "      <td>...</td>\n",
       "      <td>...</td>\n",
       "      <td>...</td>\n",
       "      <td>...</td>\n",
       "      <td>...</td>\n",
       "    </tr>\n",
       "    <tr>\n",
       "      <th>64</th>\n",
       "      <td>23</td>\n",
       "      <td>10.073529</td>\n",
       "      <td>0.148166</td>\n",
       "      <td>5112</td>\n",
       "      <td>0.020767</td>\n",
       "      <td>0.091142</td>\n",
       "    </tr>\n",
       "    <tr>\n",
       "      <th>65</th>\n",
       "      <td>15</td>\n",
       "      <td>10.402855</td>\n",
       "      <td>0.182102</td>\n",
       "      <td>4493</td>\n",
       "      <td>0.028617</td>\n",
       "      <td>0.130314</td>\n",
       "    </tr>\n",
       "    <tr>\n",
       "      <th>66</th>\n",
       "      <td>11</td>\n",
       "      <td>57.851675</td>\n",
       "      <td>0.150234</td>\n",
       "      <td>434</td>\n",
       "      <td>1.630303</td>\n",
       "      <td>3.094340</td>\n",
       "    </tr>\n",
       "    <tr>\n",
       "      <th>67</th>\n",
       "      <td>15</td>\n",
       "      <td>21.253296</td>\n",
       "      <td>0.115904</td>\n",
       "      <td>1472</td>\n",
       "      <td>0.064353</td>\n",
       "      <td>0.615807</td>\n",
       "    </tr>\n",
       "    <tr>\n",
       "      <th>68</th>\n",
       "      <td>19</td>\n",
       "      <td>14.547040</td>\n",
       "      <td>0.140530</td>\n",
       "      <td>2485</td>\n",
       "      <td>0.040184</td>\n",
       "      <td>0.336740</td>\n",
       "    </tr>\n",
       "  </tbody>\n",
       "</table>\n",
       "<p>69 rows × 6 columns</p>\n",
       "</div>"
      ],
      "text/plain": [
       "    dockcount   duration     speed  trip_num  circle_per_not_circle  \\\n",
       "0          19   8.875232  0.150016      3776               0.019989   \n",
       "1          15  10.053981  0.157008      4455               0.033883   \n",
       "2          27  12.242863  0.164938      4987               0.038093   \n",
       "3          15  13.450499  0.148370      2635               0.048548   \n",
       "4          19  10.918429  0.134878       334               0.102310   \n",
       "..        ...        ...       ...       ...                    ...   \n",
       "64         23  10.073529  0.148166      5112               0.020767   \n",
       "65         15  10.402855  0.182102      4493               0.028617   \n",
       "66         11  57.851675  0.150234       434               1.630303   \n",
       "67         15  21.253296  0.115904      1472               0.064353   \n",
       "68         19  14.547040  0.140530      2485               0.040184   \n",
       "\n",
       "    Customer_per_Subscriber  \n",
       "0                  0.127501  \n",
       "1                  0.136190  \n",
       "2                  0.214860  \n",
       "3                  0.298669  \n",
       "4                  0.289575  \n",
       "..                      ...  \n",
       "64                 0.091142  \n",
       "65                 0.130314  \n",
       "66                 3.094340  \n",
       "67                 0.615807  \n",
       "68                 0.336740  \n",
       "\n",
       "[69 rows x 6 columns]"
      ]
     },
     "execution_count": 138,
     "metadata": {},
     "output_type": "execute_result"
    }
   ],
   "source": [
    "# df = pd.DataFrame(features_df, columns = ['dockcount', 'avg_duration', 'avg_speed', 'no_of_trips','circ_ratio','sub_ratio'])\n",
    "df = features_df.drop('Start Station', axis = 1)\n",
    "df.dropna(inplace = True)\n",
    "df"
   ]
  },
  {
   "cell_type": "code",
   "execution_count": 141,
   "metadata": {},
   "outputs": [
    {
     "name": "stdout",
     "output_type": "stream",
     "text": [
      "       random   k-means++         pca  no_of_clusters\n",
      "0  292.996239  292.996239  326.206560               2\n",
      "1  246.422780  215.916626  253.036562               3\n",
      "2  182.892525  172.672342  230.940504               4\n",
      "3  147.488784  146.131662  199.300526               5\n"
     ]
    },
    {
     "name": "stderr",
     "output_type": "stream",
     "text": [
      "<ipython-input-141-3cb20dfae521>:12: RuntimeWarning: Explicit initial center position passed: performing only one init in k-means instead of n_init=10\n",
      "  df_fit = estimator.fit(scale(df))\n",
      "<ipython-input-141-3cb20dfae521>:12: RuntimeWarning: Explicit initial center position passed: performing only one init in k-means instead of n_init=10\n",
      "  df_fit = estimator.fit(scale(df))\n",
      "<ipython-input-141-3cb20dfae521>:12: RuntimeWarning: Explicit initial center position passed: performing only one init in k-means instead of n_init=10\n",
      "  df_fit = estimator.fit(scale(df))\n",
      "<ipython-input-141-3cb20dfae521>:12: RuntimeWarning: Explicit initial center position passed: performing only one init in k-means instead of n_init=10\n",
      "  df_fit = estimator.fit(scale(df))\n"
     ]
    }
   ],
   "source": [
    "cluster_method = {}\n",
    "\n",
    "for init_method in ['random','k-means++','pca']:\n",
    "    sq_dists = []\n",
    "    for no_of_clusters in range(2,6):\n",
    "        if init_method == 'pca':\n",
    "            pca = PCA(n_components=no_of_clusters).fit(scale(df))\n",
    "            estimator = KMeans(init=pca.components_, n_clusters=no_of_clusters)\n",
    "        else:\n",
    "            estimator = KMeans(init=init_method, n_clusters=no_of_clusters)\n",
    "            \n",
    "        df_fit = estimator.fit(scale(df))\n",
    "        sq_dists.append(df_fit.inertia_)\n",
    "    cluster_method[init_method] = sq_dists\n",
    "\n",
    "cluster_method[\"no_of_clusters\"] = list(range(2,6))\n",
    "    \n",
    "\n",
    "print(pd.DataFrame(cluster_method))\n",
    "\n",
    "\n"
   ]
  },
  {
   "cell_type": "code",
   "execution_count": 142,
   "metadata": {},
   "outputs": [
    {
     "data": {
      "text/plain": [
       "<matplotlib.axes._subplots.AxesSubplot at 0x28b76e3f8e0>"
      ]
     },
     "execution_count": 142,
     "metadata": {},
     "output_type": "execute_result"
    },
    {
     "data": {
      "image/png": "[encoded data removed]",
      "text/plain": [
       "<Figure size 432x288 with 1 Axes>"
      ]
     },
     "metadata": {
      "needs_background": "light"
     },
     "output_type": "display_data"
    }
   ],
   "source": [
    "pd.DataFrame(cluster_method).set_index(pd.Index(range(2,6))).plot(x='no_of_clusters')"
   ]
  },
  {
   "cell_type": "markdown",
   "metadata": {},
   "source": [
    "K-Means performs the best with 3 clusters"
   ]
  },
  {
   "cell_type": "code",
   "execution_count": 153,
   "metadata": {},
   "outputs": [],
   "source": [
    "def draw_cluster_plot(df, estimator, figsize=(20,40), cmap_name='viridis'):\n",
    "    cmap = matplotlib.cm.get_cmap(cmap_name)\n",
    "    xy_toplot = list(combinations(df.columns,2))\n",
    "    fig, axes = plt.subplots(nrows=len(xy_toplot)//2,ncols=2, figsize=figsize)\n",
    "    i = 0\n",
    "    for x_ax, y_ax in xy_toplot:\n",
    "        df.plot.scatter(x=x_ax, y=y_ax, c=estimator.labels_, cmap=cmap, ax=axes[i//2, i%2],colorbar=False)\n",
    "        i += 1\n",
    "    plt.show()\n",
    "    \n",
    "\n",
    "def fit_kmeans(df, num_clusters, init_method):\n",
    "    if init_method == 'pca':\n",
    "        pca = PCA(n_components=num_clusters).fit(df)\n",
    "        estimator = KMeans(init=pca.components_, n_clusters=num_clusters)\n",
    "    else:\n",
    "        estimator = KMeans(init=init_method, n_clusters=num_clusters)\n",
    "    \n",
    "    estimator.fit(df)\n",
    "    return estimator"
   ]
  },
  {
   "cell_type": "code",
   "execution_count": 154,
   "metadata": {
    "scrolled": true
   },
   "outputs": [
    {
     "data": {
      "image/png": "[encoded data removed]",
      "text/plain": [
       "<Figure size 432x288 with 2 Axes>"
      ]
     },
     "metadata": {
      "needs_background": "light"
     },
     "output_type": "display_data"
    },
    {
     "ename": "IndexError",
     "evalue": "index 7 is out of bounds for axis 0 with size 7",
     "output_type": "error",
     "traceback": [
      "\u001b[1;31m---------------------------------------------------------------------------\u001b[0m",
      "\u001b[1;31mIndexError\u001b[0m                                Traceback (most recent call last)",
      "\u001b[1;32m<ipython-input-154-6c8ccdd699ff>\u001b[0m in \u001b[0;36m<module>\u001b[1;34m\u001b[0m\n\u001b[0;32m      6\u001b[0m \u001b[0max\u001b[0m\u001b[1;33m.\u001b[0m\u001b[0mset_ylim\u001b[0m\u001b[1;33m(\u001b[0m\u001b[0mbottom\u001b[0m \u001b[1;33m+\u001b[0m \u001b[1;36m0.5\u001b[0m\u001b[1;33m,\u001b[0m \u001b[0mtop\u001b[0m \u001b[1;33m-\u001b[0m \u001b[1;36m0.5\u001b[0m\u001b[1;33m)\u001b[0m\u001b[1;33m\u001b[0m\u001b[1;33m\u001b[0m\u001b[0m\n\u001b[0;32m      7\u001b[0m \u001b[0mplt\u001b[0m\u001b[1;33m.\u001b[0m\u001b[0mshow\u001b[0m\u001b[1;33m(\u001b[0m\u001b[1;33m)\u001b[0m\u001b[1;33m\u001b[0m\u001b[1;33m\u001b[0m\u001b[0m\n\u001b[1;32m----> 8\u001b[1;33m \u001b[0mdraw_cluster_plot\u001b[0m\u001b[1;33m(\u001b[0m\u001b[0mdf\u001b[0m\u001b[1;33m,\u001b[0m \u001b[0mestimator\u001b[0m\u001b[1;33m)\u001b[0m\u001b[1;33m\u001b[0m\u001b[1;33m\u001b[0m\u001b[0m\n\u001b[0m",
      "\u001b[1;32m<ipython-input-153-2a618680608f>\u001b[0m in \u001b[0;36mdraw_cluster_plot\u001b[1;34m(df, estimator, figsize, cmap_name)\u001b[0m\n\u001b[0;32m      5\u001b[0m     \u001b[0mi\u001b[0m \u001b[1;33m=\u001b[0m \u001b[1;36m0\u001b[0m\u001b[1;33m\u001b[0m\u001b[1;33m\u001b[0m\u001b[0m\n\u001b[0;32m      6\u001b[0m     \u001b[1;32mfor\u001b[0m \u001b[0mx_ax\u001b[0m\u001b[1;33m,\u001b[0m \u001b[0my_ax\u001b[0m \u001b[1;32min\u001b[0m \u001b[0mxy_toplot\u001b[0m\u001b[1;33m:\u001b[0m\u001b[1;33m\u001b[0m\u001b[1;33m\u001b[0m\u001b[0m\n\u001b[1;32m----> 7\u001b[1;33m         \u001b[0mdf\u001b[0m\u001b[1;33m.\u001b[0m\u001b[0mplot\u001b[0m\u001b[1;33m.\u001b[0m\u001b[0mscatter\u001b[0m\u001b[1;33m(\u001b[0m\u001b[0mx\u001b[0m\u001b[1;33m=\u001b[0m\u001b[0mx_ax\u001b[0m\u001b[1;33m,\u001b[0m \u001b[0my\u001b[0m\u001b[1;33m=\u001b[0m\u001b[0my_ax\u001b[0m\u001b[1;33m,\u001b[0m \u001b[0mc\u001b[0m\u001b[1;33m=\u001b[0m\u001b[0mestimator\u001b[0m\u001b[1;33m.\u001b[0m\u001b[0mlabels_\u001b[0m\u001b[1;33m,\u001b[0m \u001b[0mcmap\u001b[0m\u001b[1;33m=\u001b[0m\u001b[0mcmap\u001b[0m\u001b[1;33m,\u001b[0m \u001b[0max\u001b[0m\u001b[1;33m=\u001b[0m\u001b[0maxes\u001b[0m\u001b[1;33m[\u001b[0m\u001b[0mi\u001b[0m\u001b[1;33m//\u001b[0m\u001b[1;36m2\u001b[0m\u001b[1;33m,\u001b[0m \u001b[0mi\u001b[0m\u001b[1;33m%\u001b[0m\u001b[1;36m2\u001b[0m\u001b[1;33m]\u001b[0m\u001b[1;33m,\u001b[0m\u001b[0mcolorbar\u001b[0m\u001b[1;33m=\u001b[0m\u001b[1;32mFalse\u001b[0m\u001b[1;33m)\u001b[0m\u001b[1;33m\u001b[0m\u001b[1;33m\u001b[0m\u001b[0m\n\u001b[0m\u001b[0;32m      8\u001b[0m         \u001b[0mi\u001b[0m \u001b[1;33m+=\u001b[0m \u001b[1;36m1\u001b[0m\u001b[1;33m\u001b[0m\u001b[1;33m\u001b[0m\u001b[0m\n\u001b[0;32m      9\u001b[0m     \u001b[0mplt\u001b[0m\u001b[1;33m.\u001b[0m\u001b[0mshow\u001b[0m\u001b[1;33m(\u001b[0m\u001b[1;33m)\u001b[0m\u001b[1;33m\u001b[0m\u001b[1;33m\u001b[0m\u001b[0m\n",
      "\u001b[1;31mIndexError\u001b[0m: index 7 is out of bounds for axis 0 with size 7"
     ]
    },
    {
     "data": {
      "image/png": "[encoded data removed]",
      "text/plain": [
       "<Figure size 1440x2880 with 14 Axes>"
      ]
     },
     "metadata": {
      "needs_background": "light"
     },
     "output_type": "display_data"
    }
   ],
   "source": [
    "estimator = fit_kmeans(df, 3, 'k-means++')\n",
    "centers = pd.DataFrame(estimator.cluster_centers_)\n",
    "centers.columns = df.columns\n",
    "ax = sns.heatmap(centers, annot=True, cmap='Blues')\n",
    "bottom, top = ax.get_ylim()\n",
    "ax.set_ylim(bottom + 0.5, top - 0.5)\n",
    "plt.show()\n",
    "draw_cluster_plot(df, estimator)"
   ]
  },
  {
   "cell_type": "markdown",
   "metadata": {},
   "source": [
    "### trip_num vs duration\n",
    "Green colored stations had trips with the least number of trips. They seem to get more subscribers than customers compared to other clusters. The trips ended at other stations. The duration of these trips was highest compared to others\n",
    "\n",
    "Purple colored stations had a higher number of trips than green stations but less than yellow stations.These stations had the lowest number of circle trips.\n",
    "\n",
    "Yellow stations had highest number of trips occuring.These stations seem to get more customers than subscribers."
   ]
  }
 ],
 "metadata": {
  "kernelspec": {
   "display_name": "Python 3",
   "language": "python",
   "name": "python3"
  },
  "language_info": {
   "codemirror_mode": {
    "name": "ipython",
    "version": 3
   },
   "file_extension": ".py",
   "mimetype": "text/x-python",
   "name": "python",
   "nbconvert_exporter": "python",
   "pygments_lexer": "ipython3",
   "version": "3.8.3"
  }
 },
 "nbformat": 4,
 "nbformat_minor": 2
}
