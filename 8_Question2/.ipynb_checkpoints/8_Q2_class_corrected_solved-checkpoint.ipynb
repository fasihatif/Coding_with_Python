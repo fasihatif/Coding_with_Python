{
 "cells": [
  {
   "cell_type": "code",
   "execution_count": 4,
   "metadata": {
    "colab": {},
    "colab_type": "code",
    "id": "1yXB6U2ODLWd"
   },
   "outputs": [],
   "source": [
    "import pandas as pd\n",
    "import numpy as np\n",
    "import matplotlib.pyplot as plt\n",
    "%matplotlib inline"
   ]
  },
  {
   "cell_type": "markdown",
   "metadata": {
    "colab_type": "text",
    "id": "aPpH9toFDLWg"
   },
   "source": [
    "#### Loading dictinary from file"
   ]
  },
  {
   "cell_type": "code",
   "execution_count": 5,
   "metadata": {
    "colab": {},
    "colab_type": "code",
    "id": "yk8TvrpxDLWh"
   },
   "outputs": [],
   "source": [
    "uni_dict = np.load('example_dict.npy', allow_pickle=True).item()"
   ]
  },
  {
   "cell_type": "code",
   "execution_count": 6,
   "metadata": {
    "colab": {},
    "colab_type": "code",
    "id": "8Q5jfTa4DLWk",
    "outputId": "8d3eccd5-ee05-4129-cdd9-fecbd3b7de0b"
   },
   "outputs": [
    {
     "data": {
      "text/plain": [
       "{'Boston': ['Northeastern University', 'Boston University'],\n",
       " 'London': ['UCL',\n",
       "  'Kings College',\n",
       "  'Queen Mary University',\n",
       "  'Royal Holloway University'],\n",
       " 'Oxford': ['Oxford University']}"
      ]
     },
     "execution_count": 6,
     "metadata": {},
     "output_type": "execute_result"
    }
   ],
   "source": [
    "uni_dict"
   ]
  },
  {
   "cell_type": "code",
   "execution_count": 7,
   "metadata": {
    "colab": {},
    "colab_type": "code",
    "id": "yCxBNt0ADLWq",
    "outputId": "c8f26acf-89fa-410c-e565-77be98225e19"
   },
   "outputs": [
    {
     "data": {
      "text/plain": [
       "dict_keys(['Boston', 'London', 'Oxford'])"
      ]
     },
     "execution_count": 7,
     "metadata": {},
     "output_type": "execute_result"
    }
   ],
   "source": [
    "uni_dict.keys()"
   ]
  },
  {
   "cell_type": "markdown",
   "metadata": {
    "colab_type": "text",
    "id": "Y1VnZ7u6DLWt"
   },
   "source": [
    "#### dictionary to dataframe"
   ]
  },
  {
   "cell_type": "code",
   "execution_count": 8,
   "metadata": {
    "colab": {},
    "colab_type": "code",
    "id": "qYnp58TrDLWt",
    "outputId": "100cbb2e-c521-49f6-9129-2070df50e3c7"
   },
   "outputs": [
    {
     "name": "stdout",
     "output_type": "stream",
     "text": [
      "key Boston\n",
      "value ['Northeastern University', 'Boston University']\n",
      "this will be a row:  ['Boston', 'Northeastern University']\n",
      "this will be a row:  ['Boston', 'Boston University']\n",
      "key London\n",
      "value ['UCL', 'Kings College', 'Queen Mary University', 'Royal Holloway University']\n",
      "this will be a row:  ['London', 'UCL']\n",
      "this will be a row:  ['London', 'Kings College']\n",
      "this will be a row:  ['London', 'Queen Mary University']\n",
      "this will be a row:  ['London', 'Royal Holloway University']\n",
      "key Oxford\n",
      "value ['Oxford University']\n",
      "this will be a row:  ['Oxford', 'Oxford University']\n"
     ]
    }
   ],
   "source": [
    "df_rows = []\n",
    "for k,v in uni_dict.items():\n",
    "    print('key', k)\n",
    "    print('value',v)\n",
    "    for vv in v:\n",
    "        print('this will be a row: ',[k,vv])\n",
    "        df_rows.append([k,vv])"
   ]
  },
  {
   "cell_type": "code",
   "execution_count": 9,
   "metadata": {
    "colab": {},
    "colab_type": "code",
    "id": "_IS8HD4vDLWx",
    "outputId": "c1dc8010-0ef7-4bb0-b77e-2125e9634ad2"
   },
   "outputs": [
    {
     "data": {
      "text/plain": [
       "[['Boston', 'Northeastern University'],\n",
       " ['Boston', 'Boston University'],\n",
       " ['London', 'UCL'],\n",
       " ['London', 'Kings College'],\n",
       " ['London', 'Queen Mary University'],\n",
       " ['London', 'Royal Holloway University'],\n",
       " ['Oxford', 'Oxford University']]"
      ]
     },
     "execution_count": 9,
     "metadata": {},
     "output_type": "execute_result"
    }
   ],
   "source": [
    "df_rows"
   ]
  },
  {
   "cell_type": "code",
   "execution_count": 10,
   "metadata": {
    "colab": {},
    "colab_type": "code",
    "id": "ue67xDIFDLW0"
   },
   "outputs": [],
   "source": [
    "uni_df = pd.DataFrame(df_rows, columns=['city','university'])"
   ]
  },
  {
   "cell_type": "code",
   "execution_count": 11,
   "metadata": {
    "colab": {},
    "colab_type": "code",
    "id": "OYKtBHkKDLW2",
    "outputId": "b1caa8ff-b18d-42df-a542-a2d1dd4cf40f"
   },
   "outputs": [
    {
     "data": {
      "text/html": [
       "<div>\n",
       "<style scoped>\n",
       "    .dataframe tbody tr th:only-of-type {\n",
       "        vertical-align: middle;\n",
       "    }\n",
       "\n",
       "    .dataframe tbody tr th {\n",
       "        vertical-align: top;\n",
       "    }\n",
       "\n",
       "    .dataframe thead th {\n",
       "        text-align: right;\n",
       "    }\n",
       "</style>\n",
       "<table border=\"1\" class=\"dataframe\">\n",
       "  <thead>\n",
       "    <tr style=\"text-align: right;\">\n",
       "      <th></th>\n",
       "      <th>city</th>\n",
       "      <th>university</th>\n",
       "    </tr>\n",
       "  </thead>\n",
       "  <tbody>\n",
       "    <tr>\n",
       "      <th>0</th>\n",
       "      <td>Boston</td>\n",
       "      <td>Northeastern University</td>\n",
       "    </tr>\n",
       "    <tr>\n",
       "      <th>1</th>\n",
       "      <td>Boston</td>\n",
       "      <td>Boston University</td>\n",
       "    </tr>\n",
       "    <tr>\n",
       "      <th>2</th>\n",
       "      <td>London</td>\n",
       "      <td>UCL</td>\n",
       "    </tr>\n",
       "    <tr>\n",
       "      <th>3</th>\n",
       "      <td>London</td>\n",
       "      <td>Kings College</td>\n",
       "    </tr>\n",
       "    <tr>\n",
       "      <th>4</th>\n",
       "      <td>London</td>\n",
       "      <td>Queen Mary University</td>\n",
       "    </tr>\n",
       "    <tr>\n",
       "      <th>5</th>\n",
       "      <td>London</td>\n",
       "      <td>Royal Holloway University</td>\n",
       "    </tr>\n",
       "    <tr>\n",
       "      <th>6</th>\n",
       "      <td>Oxford</td>\n",
       "      <td>Oxford University</td>\n",
       "    </tr>\n",
       "  </tbody>\n",
       "</table>\n",
       "</div>"
      ],
      "text/plain": [
       "     city                 university\n",
       "0  Boston    Northeastern University\n",
       "1  Boston          Boston University\n",
       "2  London                        UCL\n",
       "3  London              Kings College\n",
       "4  London      Queen Mary University\n",
       "5  London  Royal Holloway University\n",
       "6  Oxford          Oxford University"
      ]
     },
     "execution_count": 11,
     "metadata": {},
     "output_type": "execute_result"
    }
   ],
   "source": [
    "uni_df"
   ]
  },
  {
   "cell_type": "markdown",
   "metadata": {
    "colab_type": "text",
    "id": "XbeQn5pJDLW5"
   },
   "source": [
    "#### apply function to column"
   ]
  },
  {
   "cell_type": "code",
   "execution_count": 14,
   "metadata": {},
   "outputs": [
    {
     "data": {
      "text/plain": [
       "0      Northeastern University\n",
       "1            Boston University\n",
       "2                          UCL\n",
       "3                Kings College\n",
       "4        Queen Mary University\n",
       "5    Royal Holloway University\n",
       "6            Oxford University\n",
       "Name: university, dtype: object"
      ]
     },
     "execution_count": 14,
     "metadata": {},
     "output_type": "execute_result"
    }
   ],
   "source": [
    "uni_df['university']"
   ]
  },
  {
   "cell_type": "code",
   "execution_count": 15,
   "metadata": {
    "colab": {},
    "colab_type": "code",
    "id": "21vBrOdADLW6",
    "outputId": "0cc0a653-cde1-490f-caf5-457096163fee"
   },
   "outputs": [
    {
     "data": {
      "text/plain": [
       "'Northeastern University'"
      ]
     },
     "execution_count": 15,
     "metadata": {},
     "output_type": "execute_result"
    }
   ],
   "source": [
    "x = uni_df['university'].iloc[0]\n",
    "x"
   ]
  },
  {
   "cell_type": "code",
   "execution_count": 16,
   "metadata": {
    "colab": {},
    "colab_type": "code",
    "id": "9OQN3yGBDLW9",
    "outputId": "cd6ced52-7e1b-4755-cf01-70bf3b894178"
   },
   "outputs": [
    {
     "data": {
      "text/plain": [
       "'Northeastern'"
      ]
     },
     "execution_count": 16,
     "metadata": {},
     "output_type": "execute_result"
    }
   ],
   "source": [
    "x.split(' ')[0]"
   ]
  },
  {
   "cell_type": "code",
   "execution_count": 17,
   "metadata": {
    "colab": {},
    "colab_type": "code",
    "id": "41BvaknADLXB",
    "outputId": "670bee80-af90-4fa1-d04d-26b0ae05831c"
   },
   "outputs": [
    {
     "data": {
      "text/plain": [
       "0    Northeastern\n",
       "1          Boston\n",
       "2             UCL\n",
       "3           Kings\n",
       "4           Queen\n",
       "5           Royal\n",
       "6          Oxford\n",
       "Name: university, dtype: object"
      ]
     },
     "execution_count": 17,
     "metadata": {},
     "output_type": "execute_result"
    }
   ],
   "source": [
    "uni_df['university'].apply(lambda x: x.split(' ')[0])"
   ]
  },
  {
   "cell_type": "code",
   "execution_count": 18,
   "metadata": {
    "colab": {},
    "colab_type": "code",
    "id": "BNP8PQlODLXE",
    "outputId": "c8d16871-8207-4acd-8ff4-32cec045a4cb"
   },
   "outputs": [
    {
     "data": {
      "text/plain": [
       "'Royal Holloway University'"
      ]
     },
     "execution_count": 18,
     "metadata": {},
     "output_type": "execute_result"
    }
   ],
   "source": [
    "x = uni_df['university'].iloc[5]\n",
    "x"
   ]
  },
  {
   "cell_type": "code",
   "execution_count": 19,
   "metadata": {
    "colab": {},
    "colab_type": "code",
    "id": "Ye_ri0T6DLXI",
    "outputId": "74c984c7-475b-4811-8373-3eaf1e761c45"
   },
   "outputs": [
    {
     "data": {
      "text/plain": [
       "'Royal Holloway'"
      ]
     },
     "execution_count": 19,
     "metadata": {},
     "output_type": "execute_result"
    }
   ],
   "source": [
    "x.replace(' University','')"
   ]
  },
  {
   "cell_type": "code",
   "execution_count": 20,
   "metadata": {
    "colab": {},
    "colab_type": "code",
    "id": "zZqIsOuUDLXM",
    "outputId": "f04f3bfe-04c2-4921-9d40-7e44439b9aa4"
   },
   "outputs": [
    {
     "data": {
      "text/plain": [
       "0      Northeastern\n",
       "1            Boston\n",
       "2               UCL\n",
       "3     Kings College\n",
       "4        Queen Mary\n",
       "5    Royal Holloway\n",
       "6            Oxford\n",
       "Name: university, dtype: object"
      ]
     },
     "execution_count": 20,
     "metadata": {},
     "output_type": "execute_result"
    }
   ],
   "source": [
    "uni_df['university'].apply(lambda x: x.replace(' University',''))"
   ]
  },
  {
   "cell_type": "code",
   "execution_count": 21,
   "metadata": {},
   "outputs": [
    {
     "data": {
      "text/html": [
       "<div>\n",
       "<style scoped>\n",
       "    .dataframe tbody tr th:only-of-type {\n",
       "        vertical-align: middle;\n",
       "    }\n",
       "\n",
       "    .dataframe tbody tr th {\n",
       "        vertical-align: top;\n",
       "    }\n",
       "\n",
       "    .dataframe thead th {\n",
       "        text-align: right;\n",
       "    }\n",
       "</style>\n",
       "<table border=\"1\" class=\"dataframe\">\n",
       "  <thead>\n",
       "    <tr style=\"text-align: right;\">\n",
       "      <th></th>\n",
       "      <th>city</th>\n",
       "      <th>university</th>\n",
       "    </tr>\n",
       "  </thead>\n",
       "  <tbody>\n",
       "    <tr>\n",
       "      <th>0</th>\n",
       "      <td>Boston</td>\n",
       "      <td>Northeastern University</td>\n",
       "    </tr>\n",
       "    <tr>\n",
       "      <th>1</th>\n",
       "      <td>Boston</td>\n",
       "      <td>Boston University</td>\n",
       "    </tr>\n",
       "    <tr>\n",
       "      <th>2</th>\n",
       "      <td>London</td>\n",
       "      <td>UCL</td>\n",
       "    </tr>\n",
       "    <tr>\n",
       "      <th>3</th>\n",
       "      <td>London</td>\n",
       "      <td>Kings College</td>\n",
       "    </tr>\n",
       "    <tr>\n",
       "      <th>4</th>\n",
       "      <td>London</td>\n",
       "      <td>Queen Mary University</td>\n",
       "    </tr>\n",
       "    <tr>\n",
       "      <th>5</th>\n",
       "      <td>London</td>\n",
       "      <td>Royal Holloway University</td>\n",
       "    </tr>\n",
       "    <tr>\n",
       "      <th>6</th>\n",
       "      <td>Oxford</td>\n",
       "      <td>Oxford University</td>\n",
       "    </tr>\n",
       "  </tbody>\n",
       "</table>\n",
       "</div>"
      ],
      "text/plain": [
       "     city                 university\n",
       "0  Boston    Northeastern University\n",
       "1  Boston          Boston University\n",
       "2  London                        UCL\n",
       "3  London              Kings College\n",
       "4  London      Queen Mary University\n",
       "5  London  Royal Holloway University\n",
       "6  Oxford          Oxford University"
      ]
     },
     "execution_count": 21,
     "metadata": {},
     "output_type": "execute_result"
    }
   ],
   "source": [
    "uni_df"
   ]
  },
  {
   "cell_type": "code",
   "execution_count": 22,
   "metadata": {
    "colab": {},
    "colab_type": "code",
    "id": "jXROR-24DLXQ",
    "outputId": "b0516c93-255d-4c0f-a243-f2eea725371d"
   },
   "outputs": [
    {
     "data": {
      "text/html": [
       "<div>\n",
       "<style scoped>\n",
       "    .dataframe tbody tr th:only-of-type {\n",
       "        vertical-align: middle;\n",
       "    }\n",
       "\n",
       "    .dataframe tbody tr th {\n",
       "        vertical-align: top;\n",
       "    }\n",
       "\n",
       "    .dataframe thead th {\n",
       "        text-align: right;\n",
       "    }\n",
       "</style>\n",
       "<table border=\"1\" class=\"dataframe\">\n",
       "  <thead>\n",
       "    <tr style=\"text-align: right;\">\n",
       "      <th></th>\n",
       "      <th>city</th>\n",
       "      <th>university</th>\n",
       "      <th>univeristy_name</th>\n",
       "    </tr>\n",
       "  </thead>\n",
       "  <tbody>\n",
       "    <tr>\n",
       "      <th>0</th>\n",
       "      <td>Boston</td>\n",
       "      <td>Northeastern University</td>\n",
       "      <td>Northeastern</td>\n",
       "    </tr>\n",
       "    <tr>\n",
       "      <th>1</th>\n",
       "      <td>Boston</td>\n",
       "      <td>Boston University</td>\n",
       "      <td>Boston</td>\n",
       "    </tr>\n",
       "    <tr>\n",
       "      <th>2</th>\n",
       "      <td>London</td>\n",
       "      <td>UCL</td>\n",
       "      <td>UCL</td>\n",
       "    </tr>\n",
       "    <tr>\n",
       "      <th>3</th>\n",
       "      <td>London</td>\n",
       "      <td>Kings College</td>\n",
       "      <td>Kings College</td>\n",
       "    </tr>\n",
       "    <tr>\n",
       "      <th>4</th>\n",
       "      <td>London</td>\n",
       "      <td>Queen Mary University</td>\n",
       "      <td>Queen Mary</td>\n",
       "    </tr>\n",
       "    <tr>\n",
       "      <th>5</th>\n",
       "      <td>London</td>\n",
       "      <td>Royal Holloway University</td>\n",
       "      <td>Royal Holloway</td>\n",
       "    </tr>\n",
       "    <tr>\n",
       "      <th>6</th>\n",
       "      <td>Oxford</td>\n",
       "      <td>Oxford University</td>\n",
       "      <td>Oxford</td>\n",
       "    </tr>\n",
       "  </tbody>\n",
       "</table>\n",
       "</div>"
      ],
      "text/plain": [
       "     city                 university univeristy_name\n",
       "0  Boston    Northeastern University    Northeastern\n",
       "1  Boston          Boston University          Boston\n",
       "2  London                        UCL             UCL\n",
       "3  London              Kings College   Kings College\n",
       "4  London      Queen Mary University      Queen Mary\n",
       "5  London  Royal Holloway University  Royal Holloway\n",
       "6  Oxford          Oxford University          Oxford"
      ]
     },
     "execution_count": 22,
     "metadata": {},
     "output_type": "execute_result"
    }
   ],
   "source": [
    "uni_df['univeristy_name'] = uni_df['university'].apply(lambda x: x.replace(' University',''))\n",
    "uni_df"
   ]
  },
  {
   "cell_type": "markdown",
   "metadata": {
    "colab_type": "text",
    "id": "3Lbp7sgtDLXU"
   },
   "source": [
    "#### apply function to multiple columns"
   ]
  },
  {
   "cell_type": "code",
   "execution_count": 23,
   "metadata": {
    "colab": {},
    "colab_type": "code",
    "id": "7-KYUwpkDLXW",
    "outputId": "6d2717ad-e5cb-43ca-a23c-b109d5a3ff9a"
   },
   "outputs": [
    {
     "data": {
      "text/plain": [
       "0      Boston_Northeastern University\n",
       "1            Boston_Boston University\n",
       "2                          London_UCL\n",
       "3                London_Kings College\n",
       "4        London_Queen Mary University\n",
       "5    London_Royal Holloway University\n",
       "6            Oxford_Oxford University\n",
       "dtype: object"
      ]
     },
     "execution_count": 23,
     "metadata": {},
     "output_type": "execute_result"
    }
   ],
   "source": [
    "uni_df.apply(lambda x: x.city + '_' + x.university, axis=1)"
   ]
  },
  {
   "cell_type": "code",
   "execution_count": 24,
   "metadata": {
    "colab": {},
    "colab_type": "code",
    "id": "SPvJNbmjDLXa",
    "outputId": "5c910c02-8f7a-4517-c94d-38f67fa089ff"
   },
   "outputs": [
    {
     "data": {
      "text/html": [
       "<div>\n",
       "<style scoped>\n",
       "    .dataframe tbody tr th:only-of-type {\n",
       "        vertical-align: middle;\n",
       "    }\n",
       "\n",
       "    .dataframe tbody tr th {\n",
       "        vertical-align: top;\n",
       "    }\n",
       "\n",
       "    .dataframe thead th {\n",
       "        text-align: right;\n",
       "    }\n",
       "</style>\n",
       "<table border=\"1\" class=\"dataframe\">\n",
       "  <thead>\n",
       "    <tr style=\"text-align: right;\">\n",
       "      <th></th>\n",
       "      <th>city</th>\n",
       "      <th>university</th>\n",
       "      <th>univeristy_name</th>\n",
       "      <th>city_plus_uni</th>\n",
       "    </tr>\n",
       "  </thead>\n",
       "  <tbody>\n",
       "    <tr>\n",
       "      <th>0</th>\n",
       "      <td>Boston</td>\n",
       "      <td>Northeastern University</td>\n",
       "      <td>Northeastern</td>\n",
       "      <td>Boston_Northeastern University</td>\n",
       "    </tr>\n",
       "    <tr>\n",
       "      <th>1</th>\n",
       "      <td>Boston</td>\n",
       "      <td>Boston University</td>\n",
       "      <td>Boston</td>\n",
       "      <td>Boston_Boston University</td>\n",
       "    </tr>\n",
       "    <tr>\n",
       "      <th>2</th>\n",
       "      <td>London</td>\n",
       "      <td>UCL</td>\n",
       "      <td>UCL</td>\n",
       "      <td>London_UCL</td>\n",
       "    </tr>\n",
       "    <tr>\n",
       "      <th>3</th>\n",
       "      <td>London</td>\n",
       "      <td>Kings College</td>\n",
       "      <td>Kings College</td>\n",
       "      <td>London_Kings College</td>\n",
       "    </tr>\n",
       "    <tr>\n",
       "      <th>4</th>\n",
       "      <td>London</td>\n",
       "      <td>Queen Mary University</td>\n",
       "      <td>Queen Mary</td>\n",
       "      <td>London_Queen Mary University</td>\n",
       "    </tr>\n",
       "    <tr>\n",
       "      <th>5</th>\n",
       "      <td>London</td>\n",
       "      <td>Royal Holloway University</td>\n",
       "      <td>Royal Holloway</td>\n",
       "      <td>London_Royal Holloway University</td>\n",
       "    </tr>\n",
       "    <tr>\n",
       "      <th>6</th>\n",
       "      <td>Oxford</td>\n",
       "      <td>Oxford University</td>\n",
       "      <td>Oxford</td>\n",
       "      <td>Oxford_Oxford University</td>\n",
       "    </tr>\n",
       "  </tbody>\n",
       "</table>\n",
       "</div>"
      ],
      "text/plain": [
       "     city                 university univeristy_name  \\\n",
       "0  Boston    Northeastern University    Northeastern   \n",
       "1  Boston          Boston University          Boston   \n",
       "2  London                        UCL             UCL   \n",
       "3  London              Kings College   Kings College   \n",
       "4  London      Queen Mary University      Queen Mary   \n",
       "5  London  Royal Holloway University  Royal Holloway   \n",
       "6  Oxford          Oxford University          Oxford   \n",
       "\n",
       "                      city_plus_uni  \n",
       "0    Boston_Northeastern University  \n",
       "1          Boston_Boston University  \n",
       "2                        London_UCL  \n",
       "3              London_Kings College  \n",
       "4      London_Queen Mary University  \n",
       "5  London_Royal Holloway University  \n",
       "6          Oxford_Oxford University  "
      ]
     },
     "execution_count": 24,
     "metadata": {},
     "output_type": "execute_result"
    }
   ],
   "source": [
    "uni_df['city_plus_uni'] = uni_df.apply(lambda x: x.city + '_' + x.university, axis=1)\n",
    "uni_df"
   ]
  },
  {
   "cell_type": "markdown",
   "metadata": {
    "colab_type": "text",
    "id": "n7rpVwHnDLXh"
   },
   "source": [
    "#### merging \n"
   ]
  },
  {
   "cell_type": "code",
   "execution_count": 25,
   "metadata": {
    "colab": {},
    "colab_type": "code",
    "id": "qIdY6gQoDLXi"
   },
   "outputs": [],
   "source": [
    "df_x = uni_df[['city', 'university']].copy()\n",
    "df_y = pd.DataFrame({'city':['London', 'Boston','New York'],\n",
    "                    'country':['UK','USA','USA']})"
   ]
  },
  {
   "cell_type": "code",
   "execution_count": 26,
   "metadata": {
    "colab": {},
    "colab_type": "code",
    "id": "5s815sYGDLXl",
    "outputId": "7942c9fe-4402-4deb-aaa7-9771f6802f3b"
   },
   "outputs": [
    {
     "data": {
      "text/html": [
       "<div>\n",
       "<style scoped>\n",
       "    .dataframe tbody tr th:only-of-type {\n",
       "        vertical-align: middle;\n",
       "    }\n",
       "\n",
       "    .dataframe tbody tr th {\n",
       "        vertical-align: top;\n",
       "    }\n",
       "\n",
       "    .dataframe thead th {\n",
       "        text-align: right;\n",
       "    }\n",
       "</style>\n",
       "<table border=\"1\" class=\"dataframe\">\n",
       "  <thead>\n",
       "    <tr style=\"text-align: right;\">\n",
       "      <th></th>\n",
       "      <th>city</th>\n",
       "      <th>university</th>\n",
       "    </tr>\n",
       "  </thead>\n",
       "  <tbody>\n",
       "    <tr>\n",
       "      <th>0</th>\n",
       "      <td>Boston</td>\n",
       "      <td>Northeastern University</td>\n",
       "    </tr>\n",
       "    <tr>\n",
       "      <th>1</th>\n",
       "      <td>Boston</td>\n",
       "      <td>Boston University</td>\n",
       "    </tr>\n",
       "    <tr>\n",
       "      <th>2</th>\n",
       "      <td>London</td>\n",
       "      <td>UCL</td>\n",
       "    </tr>\n",
       "    <tr>\n",
       "      <th>3</th>\n",
       "      <td>London</td>\n",
       "      <td>Kings College</td>\n",
       "    </tr>\n",
       "    <tr>\n",
       "      <th>4</th>\n",
       "      <td>London</td>\n",
       "      <td>Queen Mary University</td>\n",
       "    </tr>\n",
       "    <tr>\n",
       "      <th>5</th>\n",
       "      <td>London</td>\n",
       "      <td>Royal Holloway University</td>\n",
       "    </tr>\n",
       "    <tr>\n",
       "      <th>6</th>\n",
       "      <td>Oxford</td>\n",
       "      <td>Oxford University</td>\n",
       "    </tr>\n",
       "  </tbody>\n",
       "</table>\n",
       "</div>"
      ],
      "text/plain": [
       "     city                 university\n",
       "0  Boston    Northeastern University\n",
       "1  Boston          Boston University\n",
       "2  London                        UCL\n",
       "3  London              Kings College\n",
       "4  London      Queen Mary University\n",
       "5  London  Royal Holloway University\n",
       "6  Oxford          Oxford University"
      ]
     },
     "execution_count": 26,
     "metadata": {},
     "output_type": "execute_result"
    }
   ],
   "source": [
    "df_x"
   ]
  },
  {
   "cell_type": "code",
   "execution_count": 27,
   "metadata": {
    "colab": {},
    "colab_type": "code",
    "id": "dfXMJHhEDLXo",
    "outputId": "fdef8f73-c28d-4721-c420-2a3be84a977c"
   },
   "outputs": [
    {
     "data": {
      "text/html": [
       "<div>\n",
       "<style scoped>\n",
       "    .dataframe tbody tr th:only-of-type {\n",
       "        vertical-align: middle;\n",
       "    }\n",
       "\n",
       "    .dataframe tbody tr th {\n",
       "        vertical-align: top;\n",
       "    }\n",
       "\n",
       "    .dataframe thead th {\n",
       "        text-align: right;\n",
       "    }\n",
       "</style>\n",
       "<table border=\"1\" class=\"dataframe\">\n",
       "  <thead>\n",
       "    <tr style=\"text-align: right;\">\n",
       "      <th></th>\n",
       "      <th>city</th>\n",
       "      <th>country</th>\n",
       "    </tr>\n",
       "  </thead>\n",
       "  <tbody>\n",
       "    <tr>\n",
       "      <th>0</th>\n",
       "      <td>London</td>\n",
       "      <td>UK</td>\n",
       "    </tr>\n",
       "    <tr>\n",
       "      <th>1</th>\n",
       "      <td>Boston</td>\n",
       "      <td>USA</td>\n",
       "    </tr>\n",
       "    <tr>\n",
       "      <th>2</th>\n",
       "      <td>New York</td>\n",
       "      <td>USA</td>\n",
       "    </tr>\n",
       "  </tbody>\n",
       "</table>\n",
       "</div>"
      ],
      "text/plain": [
       "       city country\n",
       "0    London      UK\n",
       "1    Boston     USA\n",
       "2  New York     USA"
      ]
     },
     "execution_count": 27,
     "metadata": {},
     "output_type": "execute_result"
    }
   ],
   "source": [
    "df_y"
   ]
  },
  {
   "cell_type": "markdown",
   "metadata": {
    "colab_type": "text",
    "id": "eBRtiScHDLXs"
   },
   "source": [
    "<img src=\"join.png\">"
   ]
  },
  {
   "cell_type": "code",
   "execution_count": 28,
   "metadata": {
    "colab": {},
    "colab_type": "code",
    "id": "CZ-GPClaDLXs",
    "outputId": "f88e0583-b0d3-4eb5-8535-dc5ffd243b74"
   },
   "outputs": [
    {
     "data": {
      "text/html": [
       "<div>\n",
       "<style scoped>\n",
       "    .dataframe tbody tr th:only-of-type {\n",
       "        vertical-align: middle;\n",
       "    }\n",
       "\n",
       "    .dataframe tbody tr th {\n",
       "        vertical-align: top;\n",
       "    }\n",
       "\n",
       "    .dataframe thead th {\n",
       "        text-align: right;\n",
       "    }\n",
       "</style>\n",
       "<table border=\"1\" class=\"dataframe\">\n",
       "  <thead>\n",
       "    <tr style=\"text-align: right;\">\n",
       "      <th></th>\n",
       "      <th>city</th>\n",
       "      <th>university</th>\n",
       "      <th>country</th>\n",
       "    </tr>\n",
       "  </thead>\n",
       "  <tbody>\n",
       "    <tr>\n",
       "      <th>0</th>\n",
       "      <td>Boston</td>\n",
       "      <td>Northeastern University</td>\n",
       "      <td>USA</td>\n",
       "    </tr>\n",
       "    <tr>\n",
       "      <th>1</th>\n",
       "      <td>Boston</td>\n",
       "      <td>Boston University</td>\n",
       "      <td>USA</td>\n",
       "    </tr>\n",
       "    <tr>\n",
       "      <th>2</th>\n",
       "      <td>London</td>\n",
       "      <td>UCL</td>\n",
       "      <td>UK</td>\n",
       "    </tr>\n",
       "    <tr>\n",
       "      <th>3</th>\n",
       "      <td>London</td>\n",
       "      <td>Kings College</td>\n",
       "      <td>UK</td>\n",
       "    </tr>\n",
       "    <tr>\n",
       "      <th>4</th>\n",
       "      <td>London</td>\n",
       "      <td>Queen Mary University</td>\n",
       "      <td>UK</td>\n",
       "    </tr>\n",
       "    <tr>\n",
       "      <th>5</th>\n",
       "      <td>London</td>\n",
       "      <td>Royal Holloway University</td>\n",
       "      <td>UK</td>\n",
       "    </tr>\n",
       "  </tbody>\n",
       "</table>\n",
       "</div>"
      ],
      "text/plain": [
       "     city                 university country\n",
       "0  Boston    Northeastern University     USA\n",
       "1  Boston          Boston University     USA\n",
       "2  London                        UCL      UK\n",
       "3  London              Kings College      UK\n",
       "4  London      Queen Mary University      UK\n",
       "5  London  Royal Holloway University      UK"
      ]
     },
     "execution_count": 28,
     "metadata": {},
     "output_type": "execute_result"
    }
   ],
   "source": [
    "pd.merge(df_x, df_y, how='inner')"
   ]
  },
  {
   "cell_type": "code",
   "execution_count": 29,
   "metadata": {
    "colab": {},
    "colab_type": "code",
    "id": "aHMk-SG1DLXw",
    "outputId": "fe191b0a-afda-4a78-8432-bf41291fafd7"
   },
   "outputs": [
    {
     "data": {
      "text/html": [
       "<div>\n",
       "<style scoped>\n",
       "    .dataframe tbody tr th:only-of-type {\n",
       "        vertical-align: middle;\n",
       "    }\n",
       "\n",
       "    .dataframe tbody tr th {\n",
       "        vertical-align: top;\n",
       "    }\n",
       "\n",
       "    .dataframe thead th {\n",
       "        text-align: right;\n",
       "    }\n",
       "</style>\n",
       "<table border=\"1\" class=\"dataframe\">\n",
       "  <thead>\n",
       "    <tr style=\"text-align: right;\">\n",
       "      <th></th>\n",
       "      <th>city</th>\n",
       "      <th>university</th>\n",
       "      <th>country</th>\n",
       "    </tr>\n",
       "  </thead>\n",
       "  <tbody>\n",
       "    <tr>\n",
       "      <th>0</th>\n",
       "      <td>Boston</td>\n",
       "      <td>Northeastern University</td>\n",
       "      <td>USA</td>\n",
       "    </tr>\n",
       "    <tr>\n",
       "      <th>1</th>\n",
       "      <td>Boston</td>\n",
       "      <td>Boston University</td>\n",
       "      <td>USA</td>\n",
       "    </tr>\n",
       "    <tr>\n",
       "      <th>2</th>\n",
       "      <td>London</td>\n",
       "      <td>UCL</td>\n",
       "      <td>UK</td>\n",
       "    </tr>\n",
       "    <tr>\n",
       "      <th>3</th>\n",
       "      <td>London</td>\n",
       "      <td>Kings College</td>\n",
       "      <td>UK</td>\n",
       "    </tr>\n",
       "    <tr>\n",
       "      <th>4</th>\n",
       "      <td>London</td>\n",
       "      <td>Queen Mary University</td>\n",
       "      <td>UK</td>\n",
       "    </tr>\n",
       "    <tr>\n",
       "      <th>5</th>\n",
       "      <td>London</td>\n",
       "      <td>Royal Holloway University</td>\n",
       "      <td>UK</td>\n",
       "    </tr>\n",
       "    <tr>\n",
       "      <th>6</th>\n",
       "      <td>Oxford</td>\n",
       "      <td>Oxford University</td>\n",
       "      <td>NaN</td>\n",
       "    </tr>\n",
       "    <tr>\n",
       "      <th>7</th>\n",
       "      <td>New York</td>\n",
       "      <td>NaN</td>\n",
       "      <td>USA</td>\n",
       "    </tr>\n",
       "  </tbody>\n",
       "</table>\n",
       "</div>"
      ],
      "text/plain": [
       "       city                 university country\n",
       "0    Boston    Northeastern University     USA\n",
       "1    Boston          Boston University     USA\n",
       "2    London                        UCL      UK\n",
       "3    London              Kings College      UK\n",
       "4    London      Queen Mary University      UK\n",
       "5    London  Royal Holloway University      UK\n",
       "6    Oxford          Oxford University     NaN\n",
       "7  New York                        NaN     USA"
      ]
     },
     "execution_count": 29,
     "metadata": {},
     "output_type": "execute_result"
    }
   ],
   "source": [
    "pd.merge(df_x, df_y, how='outer')"
   ]
  },
  {
   "cell_type": "code",
   "execution_count": 30,
   "metadata": {
    "colab": {},
    "colab_type": "code",
    "id": "MtXgqPO7DLXy",
    "outputId": "7987aa8d-5df2-4f47-8018-655e3851e7b3"
   },
   "outputs": [
    {
     "data": {
      "text/html": [
       "<div>\n",
       "<style scoped>\n",
       "    .dataframe tbody tr th:only-of-type {\n",
       "        vertical-align: middle;\n",
       "    }\n",
       "\n",
       "    .dataframe tbody tr th {\n",
       "        vertical-align: top;\n",
       "    }\n",
       "\n",
       "    .dataframe thead th {\n",
       "        text-align: right;\n",
       "    }\n",
       "</style>\n",
       "<table border=\"1\" class=\"dataframe\">\n",
       "  <thead>\n",
       "    <tr style=\"text-align: right;\">\n",
       "      <th></th>\n",
       "      <th>city</th>\n",
       "      <th>university</th>\n",
       "      <th>country</th>\n",
       "    </tr>\n",
       "  </thead>\n",
       "  <tbody>\n",
       "    <tr>\n",
       "      <th>0</th>\n",
       "      <td>Boston</td>\n",
       "      <td>Northeastern University</td>\n",
       "      <td>USA</td>\n",
       "    </tr>\n",
       "    <tr>\n",
       "      <th>1</th>\n",
       "      <td>Boston</td>\n",
       "      <td>Boston University</td>\n",
       "      <td>USA</td>\n",
       "    </tr>\n",
       "    <tr>\n",
       "      <th>2</th>\n",
       "      <td>London</td>\n",
       "      <td>UCL</td>\n",
       "      <td>UK</td>\n",
       "    </tr>\n",
       "    <tr>\n",
       "      <th>3</th>\n",
       "      <td>London</td>\n",
       "      <td>Kings College</td>\n",
       "      <td>UK</td>\n",
       "    </tr>\n",
       "    <tr>\n",
       "      <th>4</th>\n",
       "      <td>London</td>\n",
       "      <td>Queen Mary University</td>\n",
       "      <td>UK</td>\n",
       "    </tr>\n",
       "    <tr>\n",
       "      <th>5</th>\n",
       "      <td>London</td>\n",
       "      <td>Royal Holloway University</td>\n",
       "      <td>UK</td>\n",
       "    </tr>\n",
       "    <tr>\n",
       "      <th>6</th>\n",
       "      <td>Oxford</td>\n",
       "      <td>Oxford University</td>\n",
       "      <td>NaN</td>\n",
       "    </tr>\n",
       "  </tbody>\n",
       "</table>\n",
       "</div>"
      ],
      "text/plain": [
       "     city                 university country\n",
       "0  Boston    Northeastern University     USA\n",
       "1  Boston          Boston University     USA\n",
       "2  London                        UCL      UK\n",
       "3  London              Kings College      UK\n",
       "4  London      Queen Mary University      UK\n",
       "5  London  Royal Holloway University      UK\n",
       "6  Oxford          Oxford University     NaN"
      ]
     },
     "execution_count": 30,
     "metadata": {},
     "output_type": "execute_result"
    }
   ],
   "source": [
    "pd.merge(df_x, df_y, how='left')"
   ]
  },
  {
   "cell_type": "code",
   "execution_count": 31,
   "metadata": {
    "colab": {},
    "colab_type": "code",
    "id": "GbKA20dCDLX1",
    "outputId": "ff41d4d1-8def-4ef5-a342-3754db504d2e"
   },
   "outputs": [
    {
     "data": {
      "text/html": [
       "<div>\n",
       "<style scoped>\n",
       "    .dataframe tbody tr th:only-of-type {\n",
       "        vertical-align: middle;\n",
       "    }\n",
       "\n",
       "    .dataframe tbody tr th {\n",
       "        vertical-align: top;\n",
       "    }\n",
       "\n",
       "    .dataframe thead th {\n",
       "        text-align: right;\n",
       "    }\n",
       "</style>\n",
       "<table border=\"1\" class=\"dataframe\">\n",
       "  <thead>\n",
       "    <tr style=\"text-align: right;\">\n",
       "      <th></th>\n",
       "      <th>city</th>\n",
       "      <th>university</th>\n",
       "      <th>country</th>\n",
       "    </tr>\n",
       "  </thead>\n",
       "  <tbody>\n",
       "    <tr>\n",
       "      <th>0</th>\n",
       "      <td>Boston</td>\n",
       "      <td>Northeastern University</td>\n",
       "      <td>USA</td>\n",
       "    </tr>\n",
       "    <tr>\n",
       "      <th>1</th>\n",
       "      <td>Boston</td>\n",
       "      <td>Boston University</td>\n",
       "      <td>USA</td>\n",
       "    </tr>\n",
       "    <tr>\n",
       "      <th>2</th>\n",
       "      <td>London</td>\n",
       "      <td>UCL</td>\n",
       "      <td>UK</td>\n",
       "    </tr>\n",
       "    <tr>\n",
       "      <th>3</th>\n",
       "      <td>London</td>\n",
       "      <td>Kings College</td>\n",
       "      <td>UK</td>\n",
       "    </tr>\n",
       "    <tr>\n",
       "      <th>4</th>\n",
       "      <td>London</td>\n",
       "      <td>Queen Mary University</td>\n",
       "      <td>UK</td>\n",
       "    </tr>\n",
       "    <tr>\n",
       "      <th>5</th>\n",
       "      <td>London</td>\n",
       "      <td>Royal Holloway University</td>\n",
       "      <td>UK</td>\n",
       "    </tr>\n",
       "    <tr>\n",
       "      <th>6</th>\n",
       "      <td>New York</td>\n",
       "      <td>NaN</td>\n",
       "      <td>USA</td>\n",
       "    </tr>\n",
       "  </tbody>\n",
       "</table>\n",
       "</div>"
      ],
      "text/plain": [
       "       city                 university country\n",
       "0    Boston    Northeastern University     USA\n",
       "1    Boston          Boston University     USA\n",
       "2    London                        UCL      UK\n",
       "3    London              Kings College      UK\n",
       "4    London      Queen Mary University      UK\n",
       "5    London  Royal Holloway University      UK\n",
       "6  New York                        NaN     USA"
      ]
     },
     "execution_count": 31,
     "metadata": {},
     "output_type": "execute_result"
    }
   ],
   "source": [
    "pd.merge(df_x, df_y, how='right')"
   ]
  },
  {
   "cell_type": "code",
   "execution_count": 32,
   "metadata": {
    "colab": {},
    "colab_type": "code",
    "id": "xuwIyn3qDLX5"
   },
   "outputs": [],
   "source": [
    "df_y = pd.DataFrame({'city_name':['London', 'Boston','New York'],\n",
    "                    'country':['UK','USA','USA']})"
   ]
  },
  {
   "cell_type": "code",
   "execution_count": 33,
   "metadata": {},
   "outputs": [
    {
     "data": {
      "text/html": [
       "<div>\n",
       "<style scoped>\n",
       "    .dataframe tbody tr th:only-of-type {\n",
       "        vertical-align: middle;\n",
       "    }\n",
       "\n",
       "    .dataframe tbody tr th {\n",
       "        vertical-align: top;\n",
       "    }\n",
       "\n",
       "    .dataframe thead th {\n",
       "        text-align: right;\n",
       "    }\n",
       "</style>\n",
       "<table border=\"1\" class=\"dataframe\">\n",
       "  <thead>\n",
       "    <tr style=\"text-align: right;\">\n",
       "      <th></th>\n",
       "      <th>city_name</th>\n",
       "      <th>country</th>\n",
       "    </tr>\n",
       "  </thead>\n",
       "  <tbody>\n",
       "    <tr>\n",
       "      <th>0</th>\n",
       "      <td>London</td>\n",
       "      <td>UK</td>\n",
       "    </tr>\n",
       "    <tr>\n",
       "      <th>1</th>\n",
       "      <td>Boston</td>\n",
       "      <td>USA</td>\n",
       "    </tr>\n",
       "    <tr>\n",
       "      <th>2</th>\n",
       "      <td>New York</td>\n",
       "      <td>USA</td>\n",
       "    </tr>\n",
       "  </tbody>\n",
       "</table>\n",
       "</div>"
      ],
      "text/plain": [
       "  city_name country\n",
       "0    London      UK\n",
       "1    Boston     USA\n",
       "2  New York     USA"
      ]
     },
     "execution_count": 33,
     "metadata": {},
     "output_type": "execute_result"
    }
   ],
   "source": [
    "df_y"
   ]
  },
  {
   "cell_type": "code",
   "execution_count": null,
   "metadata": {
    "colab": {},
    "colab_type": "code",
    "id": "-Okxhn9NDLX7",
    "outputId": "88a540b0-ee1d-49ec-bd96-6069ebe2705e"
   },
   "outputs": [],
   "source": [
    "pd.merge(df_x, df_y, how='left')"
   ]
  },
  {
   "cell_type": "code",
   "execution_count": 44,
   "metadata": {
    "colab": {},
    "colab_type": "code",
    "id": "e34_hehXDLX9"
   },
   "outputs": [],
   "source": [
    "uni_with_location = pd.merge(df_x, df_y, how='left', left_on='city', right_on='city_name')"
   ]
  },
  {
   "cell_type": "code",
   "execution_count": 45,
   "metadata": {
    "colab": {},
    "colab_type": "code",
    "id": "NZ3jYmSoDLX_",
    "outputId": "9175423a-2561-4db5-dd09-d49f9935e96e"
   },
   "outputs": [
    {
     "data": {
      "text/html": [
       "<div>\n",
       "<style scoped>\n",
       "    .dataframe tbody tr th:only-of-type {\n",
       "        vertical-align: middle;\n",
       "    }\n",
       "\n",
       "    .dataframe tbody tr th {\n",
       "        vertical-align: top;\n",
       "    }\n",
       "\n",
       "    .dataframe thead th {\n",
       "        text-align: right;\n",
       "    }\n",
       "</style>\n",
       "<table border=\"1\" class=\"dataframe\">\n",
       "  <thead>\n",
       "    <tr style=\"text-align: right;\">\n",
       "      <th></th>\n",
       "      <th>city</th>\n",
       "      <th>university</th>\n",
       "      <th>city_name</th>\n",
       "      <th>country</th>\n",
       "    </tr>\n",
       "  </thead>\n",
       "  <tbody>\n",
       "    <tr>\n",
       "      <th>0</th>\n",
       "      <td>Boston</td>\n",
       "      <td>Northeastern University</td>\n",
       "      <td>Boston</td>\n",
       "      <td>USA</td>\n",
       "    </tr>\n",
       "    <tr>\n",
       "      <th>1</th>\n",
       "      <td>Boston</td>\n",
       "      <td>Boston University</td>\n",
       "      <td>Boston</td>\n",
       "      <td>USA</td>\n",
       "    </tr>\n",
       "    <tr>\n",
       "      <th>2</th>\n",
       "      <td>London</td>\n",
       "      <td>UCL</td>\n",
       "      <td>London</td>\n",
       "      <td>UK</td>\n",
       "    </tr>\n",
       "    <tr>\n",
       "      <th>3</th>\n",
       "      <td>London</td>\n",
       "      <td>Kings College</td>\n",
       "      <td>London</td>\n",
       "      <td>UK</td>\n",
       "    </tr>\n",
       "    <tr>\n",
       "      <th>4</th>\n",
       "      <td>London</td>\n",
       "      <td>Queen Mary University</td>\n",
       "      <td>London</td>\n",
       "      <td>UK</td>\n",
       "    </tr>\n",
       "    <tr>\n",
       "      <th>5</th>\n",
       "      <td>London</td>\n",
       "      <td>Royal Holloway University</td>\n",
       "      <td>London</td>\n",
       "      <td>UK</td>\n",
       "    </tr>\n",
       "    <tr>\n",
       "      <th>6</th>\n",
       "      <td>Oxford</td>\n",
       "      <td>Oxford University</td>\n",
       "      <td>NaN</td>\n",
       "      <td>NaN</td>\n",
       "    </tr>\n",
       "  </tbody>\n",
       "</table>\n",
       "</div>"
      ],
      "text/plain": [
       "     city                 university city_name country\n",
       "0  Boston    Northeastern University    Boston     USA\n",
       "1  Boston          Boston University    Boston     USA\n",
       "2  London                        UCL    London      UK\n",
       "3  London              Kings College    London      UK\n",
       "4  London      Queen Mary University    London      UK\n",
       "5  London  Royal Holloway University    London      UK\n",
       "6  Oxford          Oxford University       NaN     NaN"
      ]
     },
     "execution_count": 45,
     "metadata": {},
     "output_type": "execute_result"
    }
   ],
   "source": [
    "uni_with_location"
   ]
  },
  {
   "cell_type": "markdown",
   "metadata": {
    "colab_type": "text",
    "id": "bsOtBKhdDLYB"
   },
   "source": [
    "#### merging on multiple columns"
   ]
  },
  {
   "cell_type": "code",
   "execution_count": 40,
   "metadata": {
    "colab": {},
    "colab_type": "code",
    "id": "g3_V4oBKDLYB"
   },
   "outputs": [],
   "source": [
    "gdp = pd.DataFrame({'city':['London','London','Boston','Boston','New York','New York'],\n",
    "                    'year':[2017,2018,2017,2018,2017,2018],\n",
    "                    'GDP':[1,2,3,4,5,6]})\n",
    "scholarship = pd.DataFrame({'university':['Queen Mary University','Royal Holloway University','Boston University', 'Queen Mary University','Royal Holloway University','Boston University'],\n",
    "                    'year':[2017,2017,2017,2018,2018,2018],\n",
    "                    'scholarship_avg':[1,2,3,4,5,6]})"
   ]
  },
  {
   "cell_type": "code",
   "execution_count": 41,
   "metadata": {
    "colab": {},
    "colab_type": "code",
    "id": "g4Sd4GDIDLYE",
    "outputId": "5ad91b46-f13f-4191-8dde-918f447d43af"
   },
   "outputs": [
    {
     "data": {
      "text/html": [
       "<div>\n",
       "<style scoped>\n",
       "    .dataframe tbody tr th:only-of-type {\n",
       "        vertical-align: middle;\n",
       "    }\n",
       "\n",
       "    .dataframe tbody tr th {\n",
       "        vertical-align: top;\n",
       "    }\n",
       "\n",
       "    .dataframe thead th {\n",
       "        text-align: right;\n",
       "    }\n",
       "</style>\n",
       "<table border=\"1\" class=\"dataframe\">\n",
       "  <thead>\n",
       "    <tr style=\"text-align: right;\">\n",
       "      <th></th>\n",
       "      <th>city</th>\n",
       "      <th>year</th>\n",
       "      <th>GDP</th>\n",
       "    </tr>\n",
       "  </thead>\n",
       "  <tbody>\n",
       "    <tr>\n",
       "      <th>0</th>\n",
       "      <td>London</td>\n",
       "      <td>2017</td>\n",
       "      <td>1</td>\n",
       "    </tr>\n",
       "    <tr>\n",
       "      <th>1</th>\n",
       "      <td>London</td>\n",
       "      <td>2018</td>\n",
       "      <td>2</td>\n",
       "    </tr>\n",
       "    <tr>\n",
       "      <th>2</th>\n",
       "      <td>Boston</td>\n",
       "      <td>2017</td>\n",
       "      <td>3</td>\n",
       "    </tr>\n",
       "    <tr>\n",
       "      <th>3</th>\n",
       "      <td>Boston</td>\n",
       "      <td>2018</td>\n",
       "      <td>4</td>\n",
       "    </tr>\n",
       "    <tr>\n",
       "      <th>4</th>\n",
       "      <td>New York</td>\n",
       "      <td>2017</td>\n",
       "      <td>5</td>\n",
       "    </tr>\n",
       "    <tr>\n",
       "      <th>5</th>\n",
       "      <td>New York</td>\n",
       "      <td>2018</td>\n",
       "      <td>6</td>\n",
       "    </tr>\n",
       "  </tbody>\n",
       "</table>\n",
       "</div>"
      ],
      "text/plain": [
       "       city  year  GDP\n",
       "0    London  2017    1\n",
       "1    London  2018    2\n",
       "2    Boston  2017    3\n",
       "3    Boston  2018    4\n",
       "4  New York  2017    5\n",
       "5  New York  2018    6"
      ]
     },
     "execution_count": 41,
     "metadata": {},
     "output_type": "execute_result"
    }
   ],
   "source": [
    "gdp"
   ]
  },
  {
   "cell_type": "code",
   "execution_count": 42,
   "metadata": {
    "colab": {},
    "colab_type": "code",
    "id": "EN1VRkk_DLYH",
    "outputId": "f3b9416d-f0e5-4b3b-c145-3695e02f60d3"
   },
   "outputs": [
    {
     "data": {
      "text/html": [
       "<div>\n",
       "<style scoped>\n",
       "    .dataframe tbody tr th:only-of-type {\n",
       "        vertical-align: middle;\n",
       "    }\n",
       "\n",
       "    .dataframe tbody tr th {\n",
       "        vertical-align: top;\n",
       "    }\n",
       "\n",
       "    .dataframe thead th {\n",
       "        text-align: right;\n",
       "    }\n",
       "</style>\n",
       "<table border=\"1\" class=\"dataframe\">\n",
       "  <thead>\n",
       "    <tr style=\"text-align: right;\">\n",
       "      <th></th>\n",
       "      <th>university</th>\n",
       "      <th>year</th>\n",
       "      <th>scholarship_avg</th>\n",
       "    </tr>\n",
       "  </thead>\n",
       "  <tbody>\n",
       "    <tr>\n",
       "      <th>0</th>\n",
       "      <td>Queen Mary University</td>\n",
       "      <td>2017</td>\n",
       "      <td>1</td>\n",
       "    </tr>\n",
       "    <tr>\n",
       "      <th>1</th>\n",
       "      <td>Royal Holloway University</td>\n",
       "      <td>2017</td>\n",
       "      <td>2</td>\n",
       "    </tr>\n",
       "    <tr>\n",
       "      <th>2</th>\n",
       "      <td>Boston University</td>\n",
       "      <td>2017</td>\n",
       "      <td>3</td>\n",
       "    </tr>\n",
       "    <tr>\n",
       "      <th>3</th>\n",
       "      <td>Queen Mary University</td>\n",
       "      <td>2018</td>\n",
       "      <td>4</td>\n",
       "    </tr>\n",
       "    <tr>\n",
       "      <th>4</th>\n",
       "      <td>Royal Holloway University</td>\n",
       "      <td>2018</td>\n",
       "      <td>5</td>\n",
       "    </tr>\n",
       "    <tr>\n",
       "      <th>5</th>\n",
       "      <td>Boston University</td>\n",
       "      <td>2018</td>\n",
       "      <td>6</td>\n",
       "    </tr>\n",
       "  </tbody>\n",
       "</table>\n",
       "</div>"
      ],
      "text/plain": [
       "                  university  year  scholarship_avg\n",
       "0      Queen Mary University  2017                1\n",
       "1  Royal Holloway University  2017                2\n",
       "2          Boston University  2017                3\n",
       "3      Queen Mary University  2018                4\n",
       "4  Royal Holloway University  2018                5\n",
       "5          Boston University  2018                6"
      ]
     },
     "execution_count": 42,
     "metadata": {},
     "output_type": "execute_result"
    }
   ],
   "source": [
    "scholarship"
   ]
  },
  {
   "cell_type": "code",
   "execution_count": 46,
   "metadata": {},
   "outputs": [
    {
     "data": {
      "text/html": [
       "<div>\n",
       "<style scoped>\n",
       "    .dataframe tbody tr th:only-of-type {\n",
       "        vertical-align: middle;\n",
       "    }\n",
       "\n",
       "    .dataframe tbody tr th {\n",
       "        vertical-align: top;\n",
       "    }\n",
       "\n",
       "    .dataframe thead th {\n",
       "        text-align: right;\n",
       "    }\n",
       "</style>\n",
       "<table border=\"1\" class=\"dataframe\">\n",
       "  <thead>\n",
       "    <tr style=\"text-align: right;\">\n",
       "      <th></th>\n",
       "      <th>city</th>\n",
       "      <th>university</th>\n",
       "      <th>city_name</th>\n",
       "      <th>country</th>\n",
       "    </tr>\n",
       "  </thead>\n",
       "  <tbody>\n",
       "    <tr>\n",
       "      <th>0</th>\n",
       "      <td>Boston</td>\n",
       "      <td>Northeastern University</td>\n",
       "      <td>Boston</td>\n",
       "      <td>USA</td>\n",
       "    </tr>\n",
       "    <tr>\n",
       "      <th>1</th>\n",
       "      <td>Boston</td>\n",
       "      <td>Boston University</td>\n",
       "      <td>Boston</td>\n",
       "      <td>USA</td>\n",
       "    </tr>\n",
       "    <tr>\n",
       "      <th>2</th>\n",
       "      <td>London</td>\n",
       "      <td>UCL</td>\n",
       "      <td>London</td>\n",
       "      <td>UK</td>\n",
       "    </tr>\n",
       "    <tr>\n",
       "      <th>3</th>\n",
       "      <td>London</td>\n",
       "      <td>Kings College</td>\n",
       "      <td>London</td>\n",
       "      <td>UK</td>\n",
       "    </tr>\n",
       "    <tr>\n",
       "      <th>4</th>\n",
       "      <td>London</td>\n",
       "      <td>Queen Mary University</td>\n",
       "      <td>London</td>\n",
       "      <td>UK</td>\n",
       "    </tr>\n",
       "    <tr>\n",
       "      <th>5</th>\n",
       "      <td>London</td>\n",
       "      <td>Royal Holloway University</td>\n",
       "      <td>London</td>\n",
       "      <td>UK</td>\n",
       "    </tr>\n",
       "    <tr>\n",
       "      <th>6</th>\n",
       "      <td>Oxford</td>\n",
       "      <td>Oxford University</td>\n",
       "      <td>NaN</td>\n",
       "      <td>NaN</td>\n",
       "    </tr>\n",
       "  </tbody>\n",
       "</table>\n",
       "</div>"
      ],
      "text/plain": [
       "     city                 university city_name country\n",
       "0  Boston    Northeastern University    Boston     USA\n",
       "1  Boston          Boston University    Boston     USA\n",
       "2  London                        UCL    London      UK\n",
       "3  London              Kings College    London      UK\n",
       "4  London      Queen Mary University    London      UK\n",
       "5  London  Royal Holloway University    London      UK\n",
       "6  Oxford          Oxford University       NaN     NaN"
      ]
     },
     "execution_count": 46,
     "metadata": {},
     "output_type": "execute_result"
    }
   ],
   "source": [
    "uni_with_location"
   ]
  },
  {
   "cell_type": "code",
   "execution_count": null,
   "metadata": {
    "colab": {},
    "colab_type": "code",
    "id": "fBChM8vdDLYN",
    "outputId": "e4996eee-611b-4c76-aecf-72557563d108"
   },
   "outputs": [],
   "source": [
    "scholarship_with_city = pd.merge(scholarship, uni_with_location[['university','city']],\n",
    "                                how='left')\n",
    "scholarship_with_city"
   ]
  },
  {
   "cell_type": "code",
   "execution_count": null,
   "metadata": {
    "colab": {},
    "colab_type": "code",
    "id": "-sEcNlIbDLYQ",
    "outputId": "850183d4-d6cf-4632-bbb6-5406bf880be8"
   },
   "outputs": [],
   "source": [
    "scholarship_with_city_GDP = pd.merge(scholarship_with_city, gdp,\n",
    "                                    how='left', on=['city','year'])\n",
    "scholarship_with_city_GDP\n"
   ]
  },
  {
   "cell_type": "markdown",
   "metadata": {
    "colab_type": "text",
    "id": "4vgLqiMrDLYS"
   },
   "source": [
    "#### seaborn plots"
   ]
  },
  {
   "cell_type": "code",
   "execution_count": null,
   "metadata": {
    "colab": {},
    "colab_type": "code",
    "id": "tDu9LzkHDLYT"
   },
   "outputs": [],
   "source": [
    "import seaborn as sns\n",
    "#https://seaborn.pydata.org/examples/index.html"
   ]
  },
  {
   "cell_type": "code",
   "execution_count": null,
   "metadata": {
    "colab": {},
    "colab_type": "code",
    "id": "EwqMq5X0DLYW",
    "outputId": "7625e32b-a622-476e-dbf8-e1f4b12fde13"
   },
   "outputs": [],
   "source": [
    "scholarship_with_city_GDP.boxplot('GDP')"
   ]
  },
  {
   "cell_type": "code",
   "execution_count": null,
   "metadata": {
    "colab": {},
    "colab_type": "code",
    "id": "3iGsRzkoDLYZ",
    "outputId": "03398c21-4b3f-42f7-b0db-8272c3d2d0b5"
   },
   "outputs": [],
   "source": [
    "sns.boxplot(data=scholarship_with_city_GDP, x='GDP', orient='v')"
   ]
  },
  {
   "cell_type": "code",
   "execution_count": null,
   "metadata": {
    "colab": {},
    "colab_type": "code",
    "id": "u8zEKytzDLYb",
    "outputId": "5ab20d62-36b9-40a8-a2e5-90dce76db352"
   },
   "outputs": [],
   "source": [
    "scholarship_with_city_GDP.plot.bar(x='city',y='GDP')"
   ]
  },
  {
   "cell_type": "code",
   "execution_count": null,
   "metadata": {
    "colab": {},
    "colab_type": "code",
    "id": "VfkbXSuFDLYe",
    "outputId": "4ae20958-8a5c-47f2-d7a7-2d272b5a81c5"
   },
   "outputs": [],
   "source": [
    "sns.barplot(data=scholarship_with_city_GDP, x='city', y='GDP')"
   ]
  },
  {
   "cell_type": "code",
   "execution_count": null,
   "metadata": {
    "colab": {},
    "colab_type": "code",
    "id": "fn1ft05bDLYh",
    "outputId": "9e059056-1e05-4eed-82d7-65089880f7db"
   },
   "outputs": [],
   "source": [
    "scholarship_with_city_GDP[['GDP']].hist()"
   ]
  },
  {
   "cell_type": "code",
   "execution_count": null,
   "metadata": {
    "colab": {},
    "colab_type": "code",
    "id": "7rDJwkqhDLYj",
    "outputId": "4f8c0acc-6a06-4c30-84ee-64eca2c6622b"
   },
   "outputs": [],
   "source": [
    "sns.distplot(scholarship_with_city_GDP['GDP'])"
   ]
  },
  {
   "cell_type": "code",
   "execution_count": null,
   "metadata": {
    "colab": {},
    "colab_type": "code",
    "id": "Q5N6LTsADLYt",
    "outputId": "03315a44-ccde-47d3-806b-4ad704bb967a"
   },
   "outputs": [],
   "source": [
    "scholarship_with_city_GDP.plot.scatter(x='scholarship_avg',y='GDP')"
   ]
  },
  {
   "cell_type": "code",
   "execution_count": null,
   "metadata": {
    "colab": {},
    "colab_type": "code",
    "id": "8Rj5r_s8DLYw",
    "outputId": "33e35e09-dc93-4474-df43-91b3dd6d90f3"
   },
   "outputs": [],
   "source": [
    "sns.jointplot(data=scholarship_with_city_GDP, x='scholarship_avg',y='GDP')"
   ]
  },
  {
   "cell_type": "code",
   "execution_count": null,
   "metadata": {
    "colab": {},
    "colab_type": "code",
    "id": "jUCQ112lDLYy",
    "outputId": "589c0405-f1de-45cb-b51f-99f9ba32466c"
   },
   "outputs": [],
   "source": [
    "sns.lmplot(data=scholarship_with_city_GDP, x='scholarship_avg',y='GDP')"
   ]
  },
  {
   "cell_type": "code",
   "execution_count": null,
   "metadata": {
    "colab": {},
    "colab_type": "code",
    "id": "CKMOnjeiDLY1",
    "outputId": "f4cd7e62-b4b3-4c20-cd04-01c1530df4c5"
   },
   "outputs": [],
   "source": [
    "sns.lmplot(data=scholarship_with_city_GDP, x='scholarship_avg',y='GDP', hue='city')"
   ]
  },
  {
   "cell_type": "code",
   "execution_count": null,
   "metadata": {},
   "outputs": [],
   "source": [
    "sns.lmplot(data=scholarship_with_city_GDP, x='scholarship_avg',y='GDP', hue='city', col='year')"
   ]
  },
  {
   "cell_type": "code",
   "execution_count": null,
   "metadata": {
    "colab": {},
    "colab_type": "code",
    "id": "Z_daD4b0DLY3",
    "outputId": "8e660bc5-b869-4425-c94c-fa2fa93dfc5c"
   },
   "outputs": [],
   "source": [
    "import bokeh\n",
    "from bokeh.io import show, output_notebook\n",
    "from bokeh.plotting import figure, ColumnDataSource\n",
    "from bokeh.models import HoverTool\n",
    "output_notebook()"
   ]
  },
  {
   "cell_type": "code",
   "execution_count": null,
   "metadata": {},
   "outputs": [],
   "source": [
    "p = figure(plot_width=600, plot_height=400)\n",
    "p.scatter(x=scholarship_with_city_GDP[scholarship_with_city_GDP['city']=='London']['scholarship_avg'],\n",
    "           y=scholarship_with_city_GDP[scholarship_with_city_GDP['city']=='London']['GDP'],\n",
    "          color='lime', alpha=0.8, legend='London',\n",
    "          marker='circle', size=15)\n",
    "show(p)"
   ]
  },
  {
   "cell_type": "code",
   "execution_count": null,
   "metadata": {
    "colab": {},
    "colab_type": "code",
    "id": "jUzp90tjDLY7",
    "outputId": "2f7f3a31-b7a0-4132-94d7-360c1b90a545"
   },
   "outputs": [],
   "source": [
    "p = figure( plot_width=600, plot_height=400)\n",
    "p.scatter(x= scholarship_with_city_GDP[scholarship_with_city_GDP['city']=='London']['scholarship_avg'],\n",
    "           y=scholarship_with_city_GDP[scholarship_with_city_GDP['city']=='London']['GDP'],\n",
    "          color='lime', alpha=0.8, legend='London',\n",
    "          marker='circle', size=15)\n",
    "p.scatter(x= scholarship_with_city_GDP[scholarship_with_city_GDP['city']=='Boston']['scholarship_avg'],\n",
    "           y=scholarship_with_city_GDP[scholarship_with_city_GDP['city']=='Boston']['GDP'],\n",
    "          color='purple', alpha=0.8, legend='Boston',\n",
    "         marker='circle', size=15)\n",
    "p.legend.location = \"top_left\"\n",
    "show(p)"
   ]
  },
  {
   "cell_type": "code",
   "execution_count": null,
   "metadata": {
    "colab": {},
    "colab_type": "code",
    "id": "ZCxOGjOaDLY-",
    "outputId": "4a4160b9-9e32-4fcb-b031-dd89a558f03b"
   },
   "outputs": [],
   "source": [
    "\n",
    "p = figure( plot_width=600, plot_height=400)\n",
    "p.title.text = 'Click on legend entries to hide the corresponding lines'\n",
    "\n",
    "p.scatter(x= scholarship_with_city_GDP[scholarship_with_city_GDP['city']=='London']['scholarship_avg'],\n",
    "           y=scholarship_with_city_GDP[scholarship_with_city_GDP['city']=='London']['GDP'],\n",
    "          color='lime', alpha=0.8, legend='London',\n",
    "          muted_color='lime', muted_alpha=0.2,\n",
    "          marker='circle', size=15)\n",
    "p.scatter(x= scholarship_with_city_GDP[scholarship_with_city_GDP['city']=='Boston']['scholarship_avg'],\n",
    "           y=scholarship_with_city_GDP[scholarship_with_city_GDP['city']=='Boston']['GDP'],\n",
    "          color='purple', alpha=0.8, legend='Boston',\n",
    "          muted_color='purple', muted_alpha=0.6,\n",
    "         marker='circle', size=15)\n",
    "\n",
    "\n",
    "p.legend.location = \"top_left\"\n",
    "p.legend.click_policy=\"mute\"#\"hide\"\n",
    "\n",
    "show(p)"
   ]
  },
  {
   "cell_type": "code",
   "execution_count": null,
   "metadata": {
    "colab": {},
    "colab_type": "code",
    "id": "ztyygTbxDLZA",
    "outputId": "8c9f4172-56ac-44d8-e179-d40424223072"
   },
   "outputs": [],
   "source": [
    "\n",
    "p = figure( plot_width=600, plot_height=400)\n",
    "p.title.text = \"Mouse over the dots\"\n",
    "\n",
    "l_df = scholarship_with_city_GDP[scholarship_with_city_GDP['city']=='London']\n",
    "source = ColumnDataSource(l_df)\n",
    "p.scatter(x= 'scholarship_avg',\n",
    "           y='GDP',\n",
    "          color='lime', alpha=0.8, legend='London',\n",
    "          muted_color='lime', muted_alpha=0.2,\n",
    "          marker='circle', size=15,\n",
    "         source = source)\n",
    "\n",
    "hover = HoverTool(tooltips=[(\"uni\", \"@university\"),\n",
    "                            ('year', '@year')])\n",
    "p.add_tools(hover)\n",
    "\n",
    "b_df = scholarship_with_city_GDP[scholarship_with_city_GDP['city']=='Boston']\n",
    "source = ColumnDataSource(b_df)\n",
    "p.scatter(x= 'scholarship_avg',\n",
    "           y='GDP',\n",
    "          color='purple', alpha=0.8, legend='Boston',\n",
    "          muted_color='purple', muted_alpha=0.2,\n",
    "         marker='circle', size=15,\n",
    "         source = source)\n",
    "\n",
    "\n",
    "p.add_tools(hover)\n",
    "p.legend.location = \"top_left\"\n",
    "p.legend.click_policy=\"mute\"\n",
    "#p.legend.click_policy=\"hide\"\n",
    "\n",
    "show(p)"
   ]
  },
  {
   "cell_type": "markdown",
   "metadata": {
    "colab_type": "text",
    "id": "Ys2XYfGADLZB"
   },
   "source": [
    "### 1 - exercise\n",
    "\n",
    "Load the zipcode_dict_corrected.npy file into a dictionary. <br>\n",
    "Create a list (called df_rows) from the dictionary where each element looks like ['city','zipcode']. For each city there should be a row for all the corresponding zip codes."
   ]
  },
  {
   "cell_type": "code",
   "execution_count": 57,
   "metadata": {},
   "outputs": [
    {
     "name": "stdout",
     "output_type": "stream",
     "text": [
      "key San Jose\n",
      "value ['94088', ',94089', ',94538', ',94560', ',95002', ',95008', ',95013', ',95035', ',95037', ',95050', ',95054', ',95101', ',95103', ',95106', ',95108', ',95109', ',95110', ',95111', ',95112', ',95113', ',95115', ',95116', ',95117', ',95118', ',95119', ',95120', ',95121', ',95122', ',95123', ',95124', ',95125', ',95126', ',95127', ',95128', ',95129', ',95130', ',95131', ',95132', ',95133', ',95134', ',95135', ',95136', ',95138', ',95139', ',95141', ',95148', ',95150', ',95151', ',95152', ',95153', ',95154', ',95155', ',95156', ',95157', ',95158', ',95160', ',95161', ',95164', ',95170', ',95172', ',95173', ',95190', ',95191', ',95192', ',95193', ',95194', ',95196']\n",
      "this will be a row:  ['San Jose', '94088']\n",
      "this will be a row:  ['San Jose', ',94089']\n",
      "this will be a row:  ['San Jose', ',94538']\n",
      "this will be a row:  ['San Jose', ',94560']\n",
      "this will be a row:  ['San Jose', ',95002']\n",
      "this will be a row:  ['San Jose', ',95008']\n",
      "this will be a row:  ['San Jose', ',95013']\n",
      "this will be a row:  ['San Jose', ',95035']\n",
      "this will be a row:  ['San Jose', ',95037']\n",
      "this will be a row:  ['San Jose', ',95050']\n",
      "this will be a row:  ['San Jose', ',95054']\n",
      "this will be a row:  ['San Jose', ',95101']\n",
      "this will be a row:  ['San Jose', ',95103']\n",
      "this will be a row:  ['San Jose', ',95106']\n",
      "this will be a row:  ['San Jose', ',95108']\n",
      "this will be a row:  ['San Jose', ',95109']\n",
      "this will be a row:  ['San Jose', ',95110']\n",
      "this will be a row:  ['San Jose', ',95111']\n",
      "this will be a row:  ['San Jose', ',95112']\n",
      "this will be a row:  ['San Jose', ',95113']\n",
      "this will be a row:  ['San Jose', ',95115']\n",
      "this will be a row:  ['San Jose', ',95116']\n",
      "this will be a row:  ['San Jose', ',95117']\n",
      "this will be a row:  ['San Jose', ',95118']\n",
      "this will be a row:  ['San Jose', ',95119']\n",
      "this will be a row:  ['San Jose', ',95120']\n",
      "this will be a row:  ['San Jose', ',95121']\n",
      "this will be a row:  ['San Jose', ',95122']\n",
      "this will be a row:  ['San Jose', ',95123']\n",
      "this will be a row:  ['San Jose', ',95124']\n",
      "this will be a row:  ['San Jose', ',95125']\n",
      "this will be a row:  ['San Jose', ',95126']\n",
      "this will be a row:  ['San Jose', ',95127']\n",
      "this will be a row:  ['San Jose', ',95128']\n",
      "this will be a row:  ['San Jose', ',95129']\n",
      "this will be a row:  ['San Jose', ',95130']\n",
      "this will be a row:  ['San Jose', ',95131']\n",
      "this will be a row:  ['San Jose', ',95132']\n",
      "this will be a row:  ['San Jose', ',95133']\n",
      "this will be a row:  ['San Jose', ',95134']\n",
      "this will be a row:  ['San Jose', ',95135']\n",
      "this will be a row:  ['San Jose', ',95136']\n",
      "this will be a row:  ['San Jose', ',95138']\n",
      "this will be a row:  ['San Jose', ',95139']\n",
      "this will be a row:  ['San Jose', ',95141']\n",
      "this will be a row:  ['San Jose', ',95148']\n",
      "this will be a row:  ['San Jose', ',95150']\n",
      "this will be a row:  ['San Jose', ',95151']\n",
      "this will be a row:  ['San Jose', ',95152']\n",
      "this will be a row:  ['San Jose', ',95153']\n",
      "this will be a row:  ['San Jose', ',95154']\n",
      "this will be a row:  ['San Jose', ',95155']\n",
      "this will be a row:  ['San Jose', ',95156']\n",
      "this will be a row:  ['San Jose', ',95157']\n",
      "this will be a row:  ['San Jose', ',95158']\n",
      "this will be a row:  ['San Jose', ',95160']\n",
      "this will be a row:  ['San Jose', ',95161']\n",
      "this will be a row:  ['San Jose', ',95164']\n",
      "this will be a row:  ['San Jose', ',95170']\n",
      "this will be a row:  ['San Jose', ',95172']\n",
      "this will be a row:  ['San Jose', ',95173']\n",
      "this will be a row:  ['San Jose', ',95190']\n",
      "this will be a row:  ['San Jose', ',95191']\n",
      "this will be a row:  ['San Jose', ',95192']\n",
      "this will be a row:  ['San Jose', ',95193']\n",
      "this will be a row:  ['San Jose', ',95194']\n",
      "this will be a row:  ['San Jose', ',95196']\n",
      "key Redwood City\n",
      "value ['94002', ',94061', ',94062', ',94063', ',94064', ',94065', ',94070']\n",
      "this will be a row:  ['Redwood City', '94002']\n",
      "this will be a row:  ['Redwood City', ',94061']\n",
      "this will be a row:  ['Redwood City', ',94062']\n",
      "this will be a row:  ['Redwood City', ',94063']\n",
      "this will be a row:  ['Redwood City', ',94064']\n",
      "this will be a row:  ['Redwood City', ',94065']\n",
      "this will be a row:  ['Redwood City', ',94070']\n",
      "key Mountain View\n",
      "value ['94039', ',94040', ',94041', ',94042', ',94043', ',94085']\n",
      "this will be a row:  ['Mountain View', '94039']\n",
      "this will be a row:  ['Mountain View', ',94040']\n",
      "this will be a row:  ['Mountain View', ',94041']\n",
      "this will be a row:  ['Mountain View', ',94042']\n",
      "this will be a row:  ['Mountain View', ',94043']\n",
      "this will be a row:  ['Mountain View', ',94085']\n",
      "key Palo Alto\n",
      "value ['94020', ',94022', ',94024', ',94028', ',94301', ',94302', ',94303', ',94304', ',94306', ',95033']\n",
      "this will be a row:  ['Palo Alto', '94020']\n",
      "this will be a row:  ['Palo Alto', ',94022']\n",
      "this will be a row:  ['Palo Alto', ',94024']\n",
      "this will be a row:  ['Palo Alto', ',94028']\n",
      "this will be a row:  ['Palo Alto', ',94301']\n",
      "this will be a row:  ['Palo Alto', ',94302']\n",
      "this will be a row:  ['Palo Alto', ',94303']\n",
      "this will be a row:  ['Palo Alto', ',94304']\n",
      "this will be a row:  ['Palo Alto', ',94306']\n",
      "this will be a row:  ['Palo Alto', ',95033']\n",
      "key San Francisco\n",
      "value ['94016', ',94102', ',94103', ',94104', ',94105', ',94107', ',94108', ',94109', ',94110', ',94111', ',94112', ',94114', ',94115', ',94116', ',94117', ',94118', ',94119', ',94120', ',94121', ',94122', ',94123', ',94124', ',94125', ',94126', ',94127', ',94129', ',94130', ',94131', ',94132', ',94133', ',94134', ',94137', ',94139', ',94140', ',94141', ',94142', ',94143', ',94144', ',94145', ',94146', ',94147', ',94151', ',94153', ',94154', ',94156', ',94158', ',94159', ',94160', ',94161', ',94162', ',94163', ',94164', ',94171', ',94172', ',94177', ',94188']\n",
      "this will be a row:  ['San Francisco', '94016']\n",
      "this will be a row:  ['San Francisco', ',94102']\n",
      "this will be a row:  ['San Francisco', ',94103']\n",
      "this will be a row:  ['San Francisco', ',94104']\n",
      "this will be a row:  ['San Francisco', ',94105']\n",
      "this will be a row:  ['San Francisco', ',94107']\n",
      "this will be a row:  ['San Francisco', ',94108']\n",
      "this will be a row:  ['San Francisco', ',94109']\n",
      "this will be a row:  ['San Francisco', ',94110']\n",
      "this will be a row:  ['San Francisco', ',94111']\n",
      "this will be a row:  ['San Francisco', ',94112']\n",
      "this will be a row:  ['San Francisco', ',94114']\n",
      "this will be a row:  ['San Francisco', ',94115']\n",
      "this will be a row:  ['San Francisco', ',94116']\n",
      "this will be a row:  ['San Francisco', ',94117']\n",
      "this will be a row:  ['San Francisco', ',94118']\n",
      "this will be a row:  ['San Francisco', ',94119']\n",
      "this will be a row:  ['San Francisco', ',94120']\n",
      "this will be a row:  ['San Francisco', ',94121']\n",
      "this will be a row:  ['San Francisco', ',94122']\n",
      "this will be a row:  ['San Francisco', ',94123']\n",
      "this will be a row:  ['San Francisco', ',94124']\n",
      "this will be a row:  ['San Francisco', ',94125']\n",
      "this will be a row:  ['San Francisco', ',94126']\n",
      "this will be a row:  ['San Francisco', ',94127']\n",
      "this will be a row:  ['San Francisco', ',94129']\n",
      "this will be a row:  ['San Francisco', ',94130']\n",
      "this will be a row:  ['San Francisco', ',94131']\n",
      "this will be a row:  ['San Francisco', ',94132']\n",
      "this will be a row:  ['San Francisco', ',94133']\n",
      "this will be a row:  ['San Francisco', ',94134']\n",
      "this will be a row:  ['San Francisco', ',94137']\n",
      "this will be a row:  ['San Francisco', ',94139']\n",
      "this will be a row:  ['San Francisco', ',94140']\n",
      "this will be a row:  ['San Francisco', ',94141']\n",
      "this will be a row:  ['San Francisco', ',94142']\n",
      "this will be a row:  ['San Francisco', ',94143']\n",
      "this will be a row:  ['San Francisco', ',94144']\n",
      "this will be a row:  ['San Francisco', ',94145']\n",
      "this will be a row:  ['San Francisco', ',94146']\n",
      "this will be a row:  ['San Francisco', ',94147']\n",
      "this will be a row:  ['San Francisco', ',94151']\n",
      "this will be a row:  ['San Francisco', ',94153']\n",
      "this will be a row:  ['San Francisco', ',94154']\n",
      "this will be a row:  ['San Francisco', ',94156']\n",
      "this will be a row:  ['San Francisco', ',94158']\n",
      "this will be a row:  ['San Francisco', ',94159']\n",
      "this will be a row:  ['San Francisco', ',94160']\n",
      "this will be a row:  ['San Francisco', ',94161']\n",
      "this will be a row:  ['San Francisco', ',94162']\n",
      "this will be a row:  ['San Francisco', ',94163']\n",
      "this will be a row:  ['San Francisco', ',94164']\n",
      "this will be a row:  ['San Francisco', ',94171']\n",
      "this will be a row:  ['San Francisco', ',94172']\n",
      "this will be a row:  ['San Francisco', ',94177']\n",
      "this will be a row:  ['San Francisco', ',94188']\n"
     ]
    }
   ],
   "source": [
    "zipcode_dict = np.load('zipcode_dict_corrected.npy', allow_pickle = True).item()\n",
    "zipcode_dict\n",
    "\n",
    "zipcode_dict.keys()\n",
    "zipcode_dict.values()\n",
    "\n",
    "df_rows = []\n",
    "for k,v in zipcode_dict.items():\n",
    "    print('key', k)\n",
    "    print('value',v)\n",
    "    for vv in v:\n",
    "        print('this will be a row: ',[k,vv])\n",
    "        df_rows.append([k,vv])"
   ]
  },
  {
   "cell_type": "code",
   "execution_count": 56,
   "metadata": {},
   "outputs": [
    {
     "data": {
      "text/plain": [
       "dict_values([['94088', ',94089', ',94538', ',94560', ',95002', ',95008', ',95013', ',95035', ',95037', ',95050', ',95054', ',95101', ',95103', ',95106', ',95108', ',95109', ',95110', ',95111', ',95112', ',95113', ',95115', ',95116', ',95117', ',95118', ',95119', ',95120', ',95121', ',95122', ',95123', ',95124', ',95125', ',95126', ',95127', ',95128', ',95129', ',95130', ',95131', ',95132', ',95133', ',95134', ',95135', ',95136', ',95138', ',95139', ',95141', ',95148', ',95150', ',95151', ',95152', ',95153', ',95154', ',95155', ',95156', ',95157', ',95158', ',95160', ',95161', ',95164', ',95170', ',95172', ',95173', ',95190', ',95191', ',95192', ',95193', ',95194', ',95196'], ['94002', ',94061', ',94062', ',94063', ',94064', ',94065', ',94070'], ['94039', ',94040', ',94041', ',94042', ',94043', ',94085'], ['94020', ',94022', ',94024', ',94028', ',94301', ',94302', ',94303', ',94304', ',94306', ',95033'], ['94016', ',94102', ',94103', ',94104', ',94105', ',94107', ',94108', ',94109', ',94110', ',94111', ',94112', ',94114', ',94115', ',94116', ',94117', ',94118', ',94119', ',94120', ',94121', ',94122', ',94123', ',94124', ',94125', ',94126', ',94127', ',94129', ',94130', ',94131', ',94132', ',94133', ',94134', ',94137', ',94139', ',94140', ',94141', ',94142', ',94143', ',94144', ',94145', ',94146', ',94147', ',94151', ',94153', ',94154', ',94156', ',94158', ',94159', ',94160', ',94161', ',94162', ',94163', ',94164', ',94171', ',94172', ',94177', ',94188']])"
      ]
     },
     "execution_count": 56,
     "metadata": {},
     "output_type": "execute_result"
    }
   ],
   "source": [
    "zipcode_dict.keys()\n",
    "zipcode_dict.values()\n",
    "\n"
   ]
  },
  {
   "cell_type": "markdown",
   "metadata": {
    "colab_type": "text",
    "id": "A5tt6Xt6DLZD"
   },
   "source": [
    "### 1 - check yourself"
   ]
  },
  {
   "cell_type": "code",
   "execution_count": 58,
   "metadata": {
    "colab": {},
    "colab_type": "code",
    "id": "lyD8_DoVDLZE",
    "outputId": "aedc57a3-07b9-484d-c480-a8a6195f320b"
   },
   "outputs": [
    {
     "name": "stdout",
     "output_type": "stream",
     "text": [
      "Your list is correct\n"
     ]
    }
   ],
   "source": [
    "if len(df_rows) == 146:\n",
    "    print('Your list is correct')\n",
    "else:\n",
    "    print('Your list is NOT correct')"
   ]
  },
  {
   "cell_type": "markdown",
   "metadata": {
    "colab_type": "text",
    "id": "ZGtABnhmDLZG"
   },
   "source": [
    "### 2 - exercise\n",
    "\n",
    "- Create a dataframe from the df_rows list, where the columns are called landmark az zipcode <br>\n",
    "- Create a new column in the dataframe called zip that contains the values from the zipcode column without the ',' and converted into integer type\n",
    "- Drop the zipcode column"
   ]
  },
  {
   "cell_type": "code",
   "execution_count": null,
   "metadata": {},
   "outputs": [],
   "source": [
    "\n",
    "\n"
   ]
  },
  {
   "cell_type": "markdown",
   "metadata": {
    "colab_type": "text",
    "id": "EaGBOhGwDLZI"
   },
   "source": [
    "### 2 - check yourself"
   ]
  },
  {
   "cell_type": "code",
   "execution_count": null,
   "metadata": {
    "colab": {},
    "colab_type": "code",
    "id": "UapNGKktDLZJ",
    "outputId": "7700ac3b-17a2-4390-e68c-2a3581bb799f"
   },
   "outputs": [],
   "source": [
    "from pandas.api.types import is_numeric_dtype\n",
    "if is_numeric_dtype(zipdf['zip']) and len(zipdf) == 146:\n",
    "    print('The dataframe is correct')\n",
    "else:\n",
    "    print('The dataframe is NOT correct')"
   ]
  },
  {
   "cell_type": "markdown",
   "metadata": {
    "colab_type": "text",
    "id": "WJ4AjmcDDLZL"
   },
   "source": [
    "### 3 - exercise\n",
    "Load the trip, station and weather csv-s into pandas dataframes <br>\n",
    "Join them on the appropriate columns and create a final dataframe called merged_df where there is a row for each trip with the weather conditions for the corresponding day in the corresponding city (landmark)"
   ]
  },
  {
   "cell_type": "code",
   "execution_count": null,
   "metadata": {
    "colab": {},
    "colab_type": "code",
    "id": "hwfoxyfFDLZV"
   },
   "outputs": [],
   "source": [
    "# Your code here\n",
    "\n"
   ]
  },
  {
   "cell_type": "markdown",
   "metadata": {
    "colab_type": "text",
    "id": "X-EDSsVbDLZo"
   },
   "source": [
    "### 3 - check yourself"
   ]
  },
  {
   "cell_type": "code",
   "execution_count": null,
   "metadata": {
    "colab": {},
    "colab_type": "code",
    "id": "OeyhOgdFDLZp",
    "outputId": "2ad4bf11-3f7c-49b7-ca4a-3976b5f0b16a"
   },
   "outputs": [],
   "source": [
    "if sorted(merged_df['Events'].value_counts().tolist()) == [496, 793, 10389, 11689, 120057]:\n",
    "    print('The dataframe is correct')\n",
    "else:\n",
    "    print('The dataframe is NOT correct')"
   ]
  },
  {
   "cell_type": "markdown",
   "metadata": {
    "colab_type": "text",
    "id": "p7O-wNQ1DLZs"
   },
   "source": [
    "### 4 - exercise\n",
    "\n",
    "Create a new column in the merged_df called weekend where the value is True for Saturday and Sunday and False for the other days. If you want you can create helper column that contains the name of the day first"
   ]
  },
  {
   "cell_type": "code",
   "execution_count": null,
   "metadata": {
    "colab": {},
    "colab_type": "code",
    "id": "oKj3IDRUDLZ4"
   },
   "outputs": [],
   "source": [
    "# Your code here\n",
    "\n"
   ]
  },
  {
   "cell_type": "markdown",
   "metadata": {
    "colab_type": "text",
    "id": "5jHgor1LDLZ6"
   },
   "source": [
    "### 4 - check yourself"
   ]
  },
  {
   "cell_type": "code",
   "execution_count": null,
   "metadata": {
    "colab": {},
    "colab_type": "code",
    "id": "OkaZ8YR4DLZ7",
    "outputId": "4659c368-c255-4f48-d1a2-d83b700c5318"
   },
   "outputs": [],
   "source": [
    "if sorted(merged_df['weekend'].value_counts().tolist()) == [22980, 121005]:\n",
    "    print('The weekend column is correct')\n",
    "else:\n",
    "    print('The weekend column is NOT correct')"
   ]
  },
  {
   "cell_type": "markdown",
   "metadata": {
    "colab_type": "text",
    "id": "pdimJqNLDLZ9"
   },
   "source": [
    "### 5 - exercise\n",
    "\n",
    "We would like to plot the number of trips taken by Customers/Subscribers by the different weather conditions. Let's start with the Max_Temperature_F! <br>\n",
    "Create a dataframe where we can find for each possible values of the Max_Temperature_F: how many trips were taken by Subscirption Type and weekend. It will be the easiest to plot if the dataframe is in long format: for each temperature value there are 4 rows: weekend - Customer, weekend - Subscriber, weekday - Customer, weekday - Subscriber. Name the columns containing the number of trips to num_trips."
   ]
  },
  {
   "cell_type": "code",
   "execution_count": null,
   "metadata": {
    "colab": {},
    "colab_type": "code",
    "id": "xesAyigXDLZ-",
    "scrolled": true
   },
   "outputs": [],
   "source": [
    "# Your code here\n",
    "\n"
   ]
  },
  {
   "cell_type": "code",
   "execution_count": null,
   "metadata": {},
   "outputs": [],
   "source": [
    "toplot"
   ]
  },
  {
   "cell_type": "markdown",
   "metadata": {
    "colab_type": "text",
    "id": "aT55MjkODLaA"
   },
   "source": [
    "### 5 - check yourself"
   ]
  },
  {
   "cell_type": "code",
   "execution_count": null,
   "metadata": {
    "colab": {},
    "colab_type": "code",
    "id": "qayWOhxBDLaB",
    "outputId": "cfdff584-0735-4d22-cb76-d30bfc99aaad",
    "scrolled": true
   },
   "outputs": [],
   "source": [
    "if len(toplot) == 165:\n",
    "    print('The dataframe is correct')\n",
    "else:\n",
    "    print('The dataframe is NOT correct')"
   ]
  },
  {
   "cell_type": "markdown",
   "metadata": {
    "colab_type": "text",
    "id": "yXi_-D8bDLaE"
   },
   "source": [
    "### 6 - exercise\n",
    "Use seaborn to lmplot to plot the relationship between the max temperature and the number of trips taken by Customers/Subscribers! Draw two separate plots for weekends and weekdays next to each other!"
   ]
  },
  {
   "cell_type": "code",
   "execution_count": null,
   "metadata": {
    "colab": {},
    "colab_type": "code",
    "id": "UqTIwgOuDLaE"
   },
   "outputs": [],
   "source": [
    "# Your code here\n",
    "\n"
   ]
  },
  {
   "cell_type": "markdown",
   "metadata": {
    "colab_type": "text",
    "id": "Ff56aYbIDLaI"
   },
   "source": [
    "### 7 - exercise\n",
    "\n",
    "Use a for loop to draw similar charts for all numeric weather conditions! Write one observation about what you see on the charts! It can be about one chart or the comparison of multiple charts!"
   ]
  },
  {
   "cell_type": "code",
   "execution_count": null,
   "metadata": {},
   "outputs": [],
   "source": [
    "# Your code here\n",
    "\n"
   ]
  },
  {
   "cell_type": "markdown",
   "metadata": {
    "colab": {},
    "colab_type": "code",
    "id": "MVdYR79eDLaM"
   },
   "source": [
    "### Bonus exercise"
   ]
  },
  {
   "cell_type": "markdown",
   "metadata": {},
   "source": [
    "Use the Bokeh library to draw an interactive plot about the data! The chart should have at least one interactive element (e.g. hover, clickable legend...)"
   ]
  },
  {
   "cell_type": "code",
   "execution_count": null,
   "metadata": {},
   "outputs": [],
   "source": []
  }
 ],
 "metadata": {
  "colab": {
   "name": "Q2.ipynb",
   "provenance": [],
   "version": "0.3.2"
  },
  "kernelspec": {
   "display_name": "Python 3",
   "language": "python",
   "name": "python3"
  },
  "language_info": {
   "codemirror_mode": {
    "name": "ipython",
    "version": 3
   },
   "file_extension": ".py",
   "mimetype": "text/x-python",
   "name": "python",
   "nbconvert_exporter": "python",
   "pygments_lexer": "ipython3",
   "version": "3.8.3"
  }
 },
 "nbformat": 4,
 "nbformat_minor": 1
}
