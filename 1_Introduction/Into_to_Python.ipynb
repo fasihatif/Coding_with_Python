{
 "cells": [
  {
   "cell_type": "markdown",
   "metadata": {},
   "source": [
    "### 1 - exercise\n",
    "\n",
    "Let's bake some cookies! You have 200 forints and the price of one egg is 30 forints. To make one batch of cookies you need 2 eggs. <br>\n",
    "Create the variables used in the print statement and run the cell."
   ]
  },
  {
   "cell_type": "code",
   "execution_count": 1,
   "metadata": {
    "scrolled": true
   },
   "outputs": [
    {
     "name": "stdout",
     "output_type": "stream",
     "text": [
      "For one batch of cookies 2 eggs are needed. The price of one egg is 30 forint and I have 200 forints\n"
     ]
    }
   ],
   "source": [
    "egg_needed = 2\n",
    "egg_price = 30\n",
    "my_money = 200\n",
    "\n",
    "print(\"For one batch of cookies {} eggs are needed. \\\n",
    "The price of one egg is {} forint and I have {} forints\".format(egg_needed,egg_price, my_money))"
   ]
  },
  {
   "cell_type": "markdown",
   "metadata": {},
   "source": [
    "### 1 - check yourself\n",
    "\n",
    "The output of the cell should be: <br>\n",
    "For one batch of cookies 2 eggs are needed. The price of one egg is 30 forint and I have 200 forints"
   ]
  },
  {
   "cell_type": "markdown",
   "metadata": {},
   "source": [
    "### 2 - exercise\n",
    "Create the variables used in the print statements. When defining them use the variables from the previous task. <br>\n",
    "You can only buy integer number of eggs, so make sure that the type of these new variabels are integer! "
   ]
  },
  {
   "cell_type": "code",
   "execution_count": 2,
   "metadata": {},
   "outputs": [
    {
     "name": "stdout",
     "output_type": "stream",
     "text": [
      "I can buy 6 eggs.\n",
      "To make two batches I need 4 eggs, but I'll still have 2 egg remaining\n"
     ]
    }
   ],
   "source": [
    "num_eggs = int(my_money/egg_price)\n",
    "twice_egg_needed = 2 * egg_needed\n",
    "num_eggs_remaining = num_eggs - twice_egg_needed\n",
    "\n",
    "print(\"I can buy {} eggs.\".format(num_eggs))\n",
    "print(\"To make two batches I need {} eggs, but I'll still have {} egg remaining\".format(twice_egg_needed, \n",
    "                                                                                        num_eggs_remaining))"
   ]
  },
  {
   "cell_type": "markdown",
   "metadata": {},
   "source": [
    "### 2 - check yourself\n",
    "The output of the cell should be: <br>\n",
    "I can buy 6 eggs. <br>\n",
    "To make two batches I need 4 eggs, but I'll still have 2 egg remaining"
   ]
  },
  {
   "cell_type": "markdown",
   "metadata": {},
   "source": [
    "### 3 - exercise\n",
    "\n",
    "Answer the question by changing the same variable called egg_num!\n",
    "\n",
    "- I start with 5 eggs.\n",
    "- Then I buy 2 more.\n",
    "- But then I drop 3 accidentally.\n",
    "- So I go to the store and buy 3 times the amount I have after the accident.\n",
    "- Then we divide all the eggs equally with my sister.\n",
    "- How much eggs do I have left if I make as many muffins as I can if 3 eggs are needed for each muffin?"
   ]
  },
  {
   "cell_type": "code",
   "execution_count": 4,
   "metadata": {},
   "outputs": [
    {
     "data": {
      "text/plain": [
       "2"
      ]
     },
     "execution_count": 4,
     "metadata": {},
     "output_type": "execute_result"
    }
   ],
   "source": [
    "egg_num = 5\n",
    "egg_num += 2\n",
    "egg_num -= 3\n",
    "egg_num += egg_num * 3\n",
    "egg_num //= 2\n",
    "egg_num %= 3\n",
    "egg_num"
   ]
  },
  {
   "cell_type": "markdown",
   "metadata": {},
   "source": [
    "### 3 - check yourself"
   ]
  },
  {
   "cell_type": "code",
   "execution_count": 5,
   "metadata": {},
   "outputs": [
    {
     "name": "stdout",
     "output_type": "stream",
     "text": [
      "Your answer is correct\n"
     ]
    }
   ],
   "source": [
    "if egg_num == 2:\n",
    "    print('Your answer is correct')\n",
    "else:\n",
    "    print('Your anser is NOT correct')"
   ]
  },
  {
   "cell_type": "markdown",
   "metadata": {},
   "source": [
    "### 4 - exercise\n",
    "\n",
    "Guess whether the boolean expressions are True or False and then run the cell below to see if you were right\n",
    " "
   ]
  },
  {
   "cell_type": "code",
   "execution_count": 6,
   "metadata": {},
   "outputs": [],
   "source": [
    "# Assign your guess to these variables\n",
    "# 1. True and True \n",
    "myguess_1 = True\n",
    "\n",
    "# 2. False and True\n",
    "myguess_2 = False\n",
    "\n",
    "# 3. 1 == 1 and 2 == 1 \n",
    "myguess_3 = False\n",
    "\n",
    "# 4. \"test\" == \"test\"\n",
    "myguess_4 = True\n",
    "\n",
    "# 5. 1 != 1.0\n",
    "myguess_5 = False\n",
    "\n",
    "# 6. 1 == '1'\n",
    "myguess_6 = False\n",
    "\n",
    "# 7. \"myname\" == \"MyName\"\n",
    "myguess_7 = False\n",
    "# 8. 'one' != 1\n",
    "myguess_8 = True\n",
    "\n",
    "# 9. 1 == 1 or 2 != 1 \n",
    "myguess_9 = True\n",
    "\n",
    "# 10. True and 1 == 1\n",
    "myguess_10 = True\n",
    "\n",
    "# 11. False and 0 != 0\n",
    "myguess_11 = False\n",
    "\n",
    "# 12. True or 1 == 1\n",
    "myguess_12 = True\n",
    "\n",
    "# 13. 1 != 0 and 2 == 1 \n",
    "myguess_13 = False\n",
    "\n",
    "# 14. not (True and False)\n",
    "myguess_14 = True\n",
    "\n",
    "# 15. not (not 'x' == 'x')\n",
    "myguess_15 = True\n",
    "\n",
    "# 16. not (1 != 10 or 3 == 4) \n",
    "myguess_16 = False\n",
    "\n",
    "# 17. not (\"python\" == \"python\" and \"MotherOfDragons\" == \"Daenerys\")\n",
    "myguess_17 = True\n",
    "\n",
    "# 18. 1 == 1 and not (\"one\" == 1 or 1 == 0)\n",
    "myguess_18 = True\n",
    "\n",
    "# 19. \"egg\" == \"bacon\" and not (3 == 4 or 3 == 3)\n",
    "myguess_19 = False"
   ]
  },
  {
   "cell_type": "markdown",
   "metadata": {},
   "source": [
    "### 4 - Check yourself"
   ]
  },
  {
   "cell_type": "code",
   "execution_count": 7,
   "metadata": {},
   "outputs": [
    {
     "name": "stdout",
     "output_type": "stream",
     "text": [
      "Your guess for statement 1 was  correct\n",
      "Your guess for statement 2 was  correct\n",
      "Your guess for statement 3 was  correct\n",
      "Your guess for statement 4 was  correct\n",
      "Your guess for statement 5 was  correct\n",
      "Your guess for statement 6 was  correct\n",
      "Your guess for statement 7 was  correct\n",
      "Your guess for statement 8 was  correct\n",
      "Your guess for statement 9 was  correct\n",
      "Your guess for statement 10 was  correct\n",
      "Your guess for statement 11 was  correct\n",
      "Your guess for statement 12 was  correct\n",
      "Your guess for statement 13 was  correct\n",
      "Your guess for statement 14 was  correct\n",
      "Your guess for statement 15 was  correct\n",
      "Your guess for statement 16 was  correct\n",
      "Your guess for statement 17 was  correct\n",
      "Your guess for statement 18 was  correct\n",
      "Your guess for statement 19 was  correct\n"
     ]
    }
   ],
   "source": [
    "# Run this cell to see if you were right\n",
    "\n",
    "answer_1 = True and True\n",
    "answer_2 = False and True\n",
    "answer_3 = 1 == 1 and 2 == 1\n",
    "answer_4 = \"test\" == \"test\"\n",
    "answer_5 = 1 != 1.0\n",
    "answer_6 = 1 == '1'\n",
    "answer_7 = \"myname\" == \"MyName\"\n",
    "answer_8 = 'one' != 1\n",
    "answer_9 = 1 == 1 or 2 != 1\n",
    "answer_10 = True and 1 == 1\n",
    "answer_11 = False and 0 != 0\n",
    "answer_12 = True or 1 == 1\n",
    "answer_13 = 1 != 0 and 2 == 1\n",
    "answer_14 = not (True and False)\n",
    "answer_15 = not (not 'x' == 'x')\n",
    "answer_16 = not (1 != 10 or 3 == 4)\n",
    "answer_17 = not (\"python\" == \"python\" and \"MotherOfDragons\" == \"Daenerys\")\n",
    "answer_18 = 1 == 1 and not (\"one\" == 1 or 1 == 0)\n",
    "answer_19 = \"egg\" == \"bacon\" and not (3 == 4 or 3 == 3)\n",
    "\n",
    "for i in range(1,20):\n",
    "    if eval('myguess_' + str(i)) == eval('answer_' + str(i)):\n",
    "        correctness = ''\n",
    "    else:\n",
    "        correctness = 'NOT'\n",
    "        \n",
    "    print('Your guess for statement {} was {} correct'.format(i, correctness))\n",
    "    \n",
    "    "
   ]
  }
 ],
 "metadata": {
  "kernelspec": {
   "display_name": "Python 3",
   "language": "python",
   "name": "python3"
  },
  "language_info": {
   "codemirror_mode": {
    "name": "ipython",
    "version": 3
   },
   "file_extension": ".py",
   "mimetype": "text/x-python",
   "name": "python",
   "nbconvert_exporter": "python",
   "pygments_lexer": "ipython3",
   "version": "3.8.3"
  }
 },
 "nbformat": 4,
 "nbformat_minor": 2
}
